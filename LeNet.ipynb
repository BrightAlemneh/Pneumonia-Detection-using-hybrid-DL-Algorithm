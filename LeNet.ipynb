{
  "nbformat": 4,
  "nbformat_minor": 0,
  "metadata": {
    "colab": {
      "name": "LeNet.ipynb",
      "provenance": [],
      "collapsed_sections": []
    },
    "kernelspec": {
      "name": "python3",
      "display_name": "Python 3"
    },
    "language_info": {
      "name": "python"
    }
  },
  "cells": [
    {
      "cell_type": "markdown",
      "metadata": {
        "id": "24jF21Wo7-vA"
      },
      "source": [
        "LeNet CNN Model"
      ]
    },
    {
      "cell_type": "code",
      "metadata": {
        "id": "hfLj5Zv357fW"
      },
      "source": [
        "import tensorflow.keras\n",
        "from tensorflow.keras.models import Sequential\n",
        "from tensorflow.keras.layers import Dense, Activation, Dropout, Flatten,\\\n",
        " Conv2D, MaxPooling2D,BatchNormalization\n",
        "from keras import layers\n",
        "import os,cv2\n",
        "from sklearn.metrics import confusion_matrix\n",
        "import seaborn as sns\n",
        "from tensorflow.keras.applications.resnet50 import preprocess_input\n",
        "from keras.preprocessing import image\n",
        "from keras.preprocessing.image import ImageDataGenerator\n",
        "from keras.models import Sequential\n",
        "import numpy as np\n",
        "from glob import glob\n",
        "from matplotlib import pyplot\n",
        "import matplotlib.pyplot as plt\n",
        "import pandas as pd"
      ],
      "execution_count": 36,
      "outputs": []
    },
    {
      "cell_type": "code",
      "metadata": {
        "id": "dMTFSUkW57bx"
      },
      "source": [
        "train_path = '/content/drive/MyDrive/Dataset/chest_xray/train'\n",
        "valid_path = '/content/drive/MyDrive/Dataset/chest_xray/test'"
      ],
      "execution_count": 2,
      "outputs": []
    },
    {
      "cell_type": "code",
      "metadata": {
        "id": "-9gboBtA57YT"
      },
      "source": [
        "folders = glob('/content/drive/MyDrive/Dataset/chest_xray/train/*')"
      ],
      "execution_count": 3,
      "outputs": []
    },
    {
      "cell_type": "code",
      "source": [
        "from google.colab import drive\n",
        "drive.mount('/content/drive')"
      ],
      "metadata": {
        "colab": {
          "base_uri": "https://localhost:8080/"
        },
        "id": "X2KO3qTOj57R",
        "outputId": "e0b5cd11-fe35-4ed2-de9a-dc2eacdeb80a"
      },
      "execution_count": 4,
      "outputs": [
        {
          "output_type": "stream",
          "name": "stdout",
          "text": [
            "Mounted at /content/drive\n"
          ]
        }
      ]
    },
    {
      "cell_type": "code",
      "metadata": {
        "colab": {
          "base_uri": "https://localhost:8080/"
        },
        "id": "9qmHd7DnmlM-",
        "outputId": "e46fdad3-da2d-4afb-d73a-591d55d40d9d"
      },
      "source": [
        "\n",
        "\n",
        "#  Create a sequential model\n",
        "model = Sequential()\n",
        "\n",
        "# 1st Convolutional Layer\n",
        "model.add(layers.Conv2D(6, kernel_size=(5,5), input_shape=(28,28,3),strides=(1,1),activation='tanh', padding='same'))\n",
        "\n",
        "# Pooling 1\n",
        "model.add(layers.AveragePooling2D(pool_size=(2,2), strides=(1,1), padding='valid'))\n",
        " \n",
        "\n",
        "    #2nd Convolutional Layer\n",
        "model.add(layers.Conv2D(16, kernel_size=(5,5),strides=(1,1),activation='tanh', padding='valid'))\n",
        "#model.add(layers.Conv2D(16, kernel_size=(5,5), strides=(1,1),activation='tanh' padding='valid'))\n",
        " \n",
        "# Pooling 2\n",
        "model.add(layers.AveragePooling2D(pool_size=(2,2), strides=(2,2), padding='valid'))\n",
        " \n",
        "# fully connected Convolutional Layer\n",
        "model.add(layers.Conv2D(120, kernel_size=(5,5), strides=(1,1), padding='valid'))\n",
        "# flatten the cnn output so that we can connect with the fully connected Convolutional Layer\n",
        "model.add(layers.Flatten())\n",
        "# 1st Dense Layer(2nd fully connected Convolutional Layer)\n",
        "model.add(layers.Dense(84,activation='tanh'))\n",
        " \n",
        " # Output Layer\n",
        " \n",
        "model.add(layers.Dense(1,activation='sigmoid'))\n",
        "#model.add(Activation('softmax'))\n",
        "\n",
        "model.summary()"
      ],
      "execution_count": 5,
      "outputs": [
        {
          "output_type": "stream",
          "name": "stdout",
          "text": [
            "Model: \"sequential\"\n",
            "_________________________________________________________________\n",
            " Layer (type)                Output Shape              Param #   \n",
            "=================================================================\n",
            " conv2d (Conv2D)             (None, 28, 28, 6)         456       \n",
            "                                                                 \n",
            " average_pooling2d (AverageP  (None, 27, 27, 6)        0         \n",
            " ooling2D)                                                       \n",
            "                                                                 \n",
            " conv2d_1 (Conv2D)           (None, 23, 23, 16)        2416      \n",
            "                                                                 \n",
            " average_pooling2d_1 (Averag  (None, 11, 11, 16)       0         \n",
            " ePooling2D)                                                     \n",
            "                                                                 \n",
            " conv2d_2 (Conv2D)           (None, 7, 7, 120)         48120     \n",
            "                                                                 \n",
            " flatten (Flatten)           (None, 5880)              0         \n",
            "                                                                 \n",
            " dense (Dense)               (None, 84)                494004    \n",
            "                                                                 \n",
            " dense_1 (Dense)             (None, 1)                 85        \n",
            "                                                                 \n",
            "=================================================================\n",
            "Total params: 545,081\n",
            "Trainable params: 545,081\n",
            "Non-trainable params: 0\n",
            "_________________________________________________________________\n"
          ]
        }
      ]
    },
    {
      "cell_type": "code",
      "metadata": {
        "id": "ENnYej8H5wQY"
      },
      "source": [
        "model.compile(\n",
        "  loss='binary_crossentropy',\n",
        "  optimizer='adam',\n",
        "  metrics=['accuracy']\n",
        ")\n"
      ],
      "execution_count": 6,
      "outputs": []
    },
    {
      "cell_type": "code",
      "metadata": {
        "id": "OM3t7RgL6Yr7"
      },
      "source": [
        "\n",
        "train_datagen = ImageDataGenerator(rescale = 1./255,\n",
        "                                   shear_range = 0.2,\n",
        "                                   zoom_range = 0.2,\n",
        "                                   horizontal_flip = True)\n",
        "test_datagen = ImageDataGenerator(rescale = 1./255)"
      ],
      "execution_count": 7,
      "outputs": []
    },
    {
      "cell_type": "code",
      "metadata": {
        "colab": {
          "base_uri": "https://localhost:8080/"
        },
        "id": "MeWIN2AQ6b4O",
        "outputId": "76fc6d2e-538e-4f3c-9443-d187b3fb58f1"
      },
      "source": [
        "# Make sure you provide the same target size as initialied for the image size\n",
        "training_set = train_datagen.flow_from_directory('/content/drive/MyDrive/Dataset/chest_xray/train',\n",
        "                                                 target_size = (28, 28),\n",
        "                                                 batch_size = 32,\n",
        "                                                 class_mode = 'binary')"
      ],
      "execution_count": 12,
      "outputs": [
        {
          "output_type": "stream",
          "name": "stdout",
          "text": [
            "Found 5302 images belonging to 2 classes.\n"
          ]
        }
      ]
    },
    {
      "cell_type": "code",
      "metadata": {
        "colab": {
          "base_uri": "https://localhost:8080/"
        },
        "id": "8pTxPH9h6ci9",
        "outputId": "c74f5346-20d5-428c-db70-eb7481c3bcf6"
      },
      "source": [
        "test_set = test_datagen.flow_from_directory('/content/drive/MyDrive/Dataset/chest_xray/test',\n",
        "                                            target_size = (28, 28),\n",
        "                                            batch_size = 32,\n",
        "                                            class_mode = 'binary')"
      ],
      "execution_count": 13,
      "outputs": [
        {
          "output_type": "stream",
          "name": "stdout",
          "text": [
            "Found 654 images belonging to 2 classes.\n"
          ]
        }
      ]
    },
    {
      "cell_type": "code",
      "metadata": {
        "colab": {
          "base_uri": "https://localhost:8080/"
        },
        "id": "MTQf_uVt6cmH",
        "outputId": "298e569b-12fe-4c19-825b-5a94f0714052"
      },
      "source": [
        "training_set.class_indices"
      ],
      "execution_count": 10,
      "outputs": [
        {
          "output_type": "execute_result",
          "data": {
            "text/plain": [
              "{'NORMAL': 0, 'PNEUMONIA': 1}"
            ]
          },
          "metadata": {},
          "execution_count": 10
        }
      ]
    },
    {
      "cell_type": "code",
      "metadata": {
        "colab": {
          "base_uri": "https://localhost:8080/"
        },
        "id": "B9ESLnOZ6k4I",
        "outputId": "0c2e1fd9-5ee4-489e-aa4e-32fdfc9a8fb2"
      },
      "source": [
        "# fit the model\n",
        "# Run the cell. It will take some time to execute\n",
        "r = model.fit_generator(\n",
        "  training_set,\n",
        "  validation_data=test_set,\n",
        "  epochs=20,\n",
        "  steps_per_epoch= len(training_set),\n",
        "  validation_steps=len(test_set)\n",
        ")"
      ],
      "execution_count": 14,
      "outputs": [
        {
          "metadata": {
            "tags": null
          },
          "name": "stderr",
          "output_type": "stream",
          "text": [
            "/usr/local/lib/python3.7/dist-packages/ipykernel_launcher.py:8: UserWarning: `Model.fit_generator` is deprecated and will be removed in a future version. Please use `Model.fit`, which supports generators.\n",
            "  \n"
          ]
        },
        {
          "output_type": "stream",
          "name": "stdout",
          "text": [
            "Epoch 1/20\n",
            "166/166 [==============================] - 1196s 7s/step - loss: 0.4059 - accuracy: 0.8231 - val_loss: 0.3890 - val_accuracy: 0.8165\n",
            "Epoch 2/20\n",
            "166/166 [==============================] - 98s 590ms/step - loss: 0.2574 - accuracy: 0.8925 - val_loss: 0.3197 - val_accuracy: 0.8609\n",
            "Epoch 3/20\n",
            "166/166 [==============================] - 97s 585ms/step - loss: 0.2563 - accuracy: 0.8904 - val_loss: 0.3702 - val_accuracy: 0.8440\n",
            "Epoch 4/20\n",
            "166/166 [==============================] - 101s 609ms/step - loss: 0.2466 - accuracy: 0.8942 - val_loss: 0.5287 - val_accuracy: 0.7905\n",
            "Epoch 5/20\n",
            "166/166 [==============================] - 98s 591ms/step - loss: 0.2252 - accuracy: 0.9074 - val_loss: 0.3614 - val_accuracy: 0.8670\n",
            "Epoch 6/20\n",
            "166/166 [==============================] - 97s 587ms/step - loss: 0.2271 - accuracy: 0.9036 - val_loss: 0.3476 - val_accuracy: 0.8440\n",
            "Epoch 7/20\n",
            "166/166 [==============================] - 98s 587ms/step - loss: 0.2095 - accuracy: 0.9129 - val_loss: 0.3913 - val_accuracy: 0.8379\n",
            "Epoch 8/20\n",
            "166/166 [==============================] - 97s 585ms/step - loss: 0.2092 - accuracy: 0.9078 - val_loss: 0.2981 - val_accuracy: 0.8807\n",
            "Epoch 9/20\n",
            "166/166 [==============================] - 101s 608ms/step - loss: 0.1949 - accuracy: 0.9229 - val_loss: 0.3571 - val_accuracy: 0.8532\n",
            "Epoch 10/20\n",
            "166/166 [==============================] - 102s 616ms/step - loss: 0.1921 - accuracy: 0.9223 - val_loss: 0.2846 - val_accuracy: 0.8792\n",
            "Epoch 11/20\n",
            "166/166 [==============================] - 99s 596ms/step - loss: 0.1914 - accuracy: 0.9227 - val_loss: 0.2769 - val_accuracy: 0.8823\n",
            "Epoch 12/20\n",
            "166/166 [==============================] - 100s 604ms/step - loss: 0.1914 - accuracy: 0.9212 - val_loss: 0.2993 - val_accuracy: 0.8700\n",
            "Epoch 13/20\n",
            "166/166 [==============================] - 102s 612ms/step - loss: 0.1801 - accuracy: 0.9257 - val_loss: 0.3462 - val_accuracy: 0.8716\n",
            "Epoch 14/20\n",
            "166/166 [==============================] - 102s 612ms/step - loss: 0.1903 - accuracy: 0.9223 - val_loss: 0.3470 - val_accuracy: 0.8532\n",
            "Epoch 15/20\n",
            "166/166 [==============================] - 101s 606ms/step - loss: 0.1794 - accuracy: 0.9300 - val_loss: 0.3406 - val_accuracy: 0.8685\n",
            "Epoch 16/20\n",
            "166/166 [==============================] - 100s 600ms/step - loss: 0.1826 - accuracy: 0.9280 - val_loss: 0.3991 - val_accuracy: 0.8517\n",
            "Epoch 17/20\n",
            "166/166 [==============================] - 100s 605ms/step - loss: 0.1874 - accuracy: 0.9232 - val_loss: 0.3523 - val_accuracy: 0.8624\n",
            "Epoch 18/20\n",
            "166/166 [==============================] - 101s 608ms/step - loss: 0.1781 - accuracy: 0.9298 - val_loss: 0.3138 - val_accuracy: 0.8716\n",
            "Epoch 19/20\n",
            "166/166 [==============================] - 100s 601ms/step - loss: 0.1795 - accuracy: 0.9251 - val_loss: 0.3024 - val_accuracy: 0.8777\n",
            "Epoch 20/20\n",
            "166/166 [==============================] - 101s 608ms/step - loss: 0.1881 - accuracy: 0.9253 - val_loss: 0.2762 - val_accuracy: 0.8807\n"
          ]
        }
      ]
    },
    {
      "cell_type": "code",
      "source": [
        "# plot the loss\n",
        "plt.plot(r.history['loss'], label='train loss')\n",
        "plt.plot(r.history['val_loss'], label='val loss')\n",
        "plt.legend()\n",
        "plt.show()\n",
        "plt.savefig('LossVal_loss')"
      ],
      "metadata": {
        "colab": {
          "base_uri": "https://localhost:8080/",
          "height": 282
        },
        "id": "_NHVraU_kQfH",
        "outputId": "70e16066-43cd-49d4-f33f-c39e0b966c70"
      },
      "execution_count": 15,
      "outputs": [
        {
          "output_type": "display_data",
          "data": {
            "image/png": "[encoded data removed]",
            "text/plain": [
              "<Figure size 432x288 with 1 Axes>"
            ]
          },
          "metadata": {
            "needs_background": "light"
          }
        },
        {
          "output_type": "display_data",
          "data": {
            "text/plain": [
              "<Figure size 432x288 with 0 Axes>"
            ]
          },
          "metadata": {}
        }
      ]
    },
    {
      "cell_type": "code",
      "source": [
        "# plot the accuracy\n",
        "plt.plot(r.history['accuracy'], label='train acc')\n",
        "plt.plot(r.history['val_accuracy'], label='val acc')\n",
        "plt.legend()\n",
        "plt.show()\n",
        "plt.savefig('AccVal_acc')"
      ],
      "metadata": {
        "colab": {
          "base_uri": "https://localhost:8080/",
          "height": 282
        },
        "id": "BlpLf4_EkQwJ",
        "outputId": "efe25ac7-26f4-476a-ae74-09e172bc184a"
      },
      "execution_count": 16,
      "outputs": [
        {
          "output_type": "display_data",
          "data": {
            "image/png": "[encoded data removed]",
            "text/plain": [
              "<Figure size 432x288 with 1 Axes>"
            ]
          },
          "metadata": {
            "needs_background": "light"
          }
        },
        {
          "output_type": "display_data",
          "data": {
            "text/plain": [
              "<Figure size 432x288 with 0 Axes>"
            ]
          },
          "metadata": {}
        }
      ]
    },
    {
      "cell_type": "code",
      "source": [
        "from PIL.Image import NORMAL\n",
        "test_data=[]\n",
        "test_labels=[]\n",
        "for i in ['/NORMAL/', '/PNEUMONIA/']:\n",
        "    for img in (os.listdir('/content/drive/MyDrive/Dataset/chest_xray/test/' +i)):\n",
        "        img=plt.imread('/content/drive/MyDrive/Dataset/chest_xray/test/'+ i+img)\n",
        "        img= cv2.resize(img, (28,28))\n",
        "        img= np.dstack([img, img,img])\n",
        "        img=img.astype('float32')/ 255\n",
        "        if i=='/NORMAL/':\n",
        "          label=0\n",
        "        elif i=='/PNEUMONIA/':\n",
        "          label=1\n",
        "        test_data.append(img)\n",
        "        test_labels.append(label)"
      ],
      "metadata": {
        "id": "ESVhUucskRVp"
      },
      "execution_count": 17,
      "outputs": []
    },
    {
      "cell_type": "code",
      "source": [
        "test_data=np.array(test_data)\n",
        "test_labels=np.array(test_labels)"
      ],
      "metadata": {
        "id": "KGJdvcS9k1pn"
      },
      "execution_count": 18,
      "outputs": []
    },
    {
      "cell_type": "code",
      "source": [
        "from sklearn.metrics import classification_report, accuracy_score,confusion_matrix\n",
        "preds= model.predict(test_data)\n",
        "acc= accuracy_score(test_labels,np.round(preds))*100\n",
        "cm=confusion_matrix(test_labels,np.round(preds))\n",
        "tp, fp,fn,tn= cm.ravel()\n",
        "print(\"confusion_matrix===========\")\n",
        "print(cm)\n",
        "print(\"\\ntest_matrix==============\")\n",
        "precision=tp/(tp+fp)*100\n",
        "recall=tp/(tp+fn)*100\n",
        "sensitivity=tn/(tn+fp)\n",
        "print('accuracy: {}%'.format(acc))\n",
        "print('precision: {}%'.format(precision))\n",
        "print('Recall: {}%'.format(recall))\n",
        "print('F1-scor: {}%'.format(2*precision*recall/(precision+recall)))\n",
        "\n",
        "print('\\n train matrix===========')\n",
        "print('train acc:{}'.format(np.round((r.history['accuracy'][-1])*100,2)))\n"
      ],
      "metadata": {
        "colab": {
          "base_uri": "https://localhost:8080/"
        },
        "id": "uU9stcxik4e6",
        "outputId": "4b0380a9-8c39-44bc-99ae-b7fd55da68ed"
      },
      "execution_count": 19,
      "outputs": [
        {
          "output_type": "stream",
          "name": "stdout",
          "text": [
            "confusion_matrix===========\n",
            "[[198  44]\n",
            " [ 35 377]]\n",
            "\n",
            "test_matrix==============\n",
            "accuracy: 87.92048929663608%\n",
            "precision: 81.81818181818183%\n",
            "Recall: 84.97854077253218%\n",
            "F1-scor: 83.36842105263159%\n",
            "\n",
            " train matrix===========\n",
            "train acc:92.53\n"
          ]
        }
      ]
    },
    {
      "cell_type": "code",
      "source": [
        "print(classification_report(test_labels,np.round(preds),target_names=['Normal','Pneumonia']))"
      ],
      "metadata": {
        "colab": {
          "base_uri": "https://localhost:8080/"
        },
        "id": "B37I_3cLk7qj",
        "outputId": "6d5bdc5b-f3df-4dde-a950-6c9300bebbbf"
      },
      "execution_count": 20,
      "outputs": [
        {
          "output_type": "stream",
          "name": "stdout",
          "text": [
            "              precision    recall  f1-score   support\n",
            "\n",
            "      Normal       0.85      0.82      0.83       242\n",
            "   Pneumonia       0.90      0.92      0.91       412\n",
            "\n",
            "    accuracy                           0.88       654\n",
            "   macro avg       0.87      0.87      0.87       654\n",
            "weighted avg       0.88      0.88      0.88       654\n",
            "\n"
          ]
        }
      ]
    },
    {
      "cell_type": "code",
      "source": [
        "from mlxtend.plotting import plot_confusion_matrix\n",
        "plt.figure()\n",
        "\n",
        "plot_confusion_matrix(cm, figsize=(12,8),hide_ticks=True, cmap=plt.cm.Blues)\n",
        "plt.xticks(range(2),['Normal','Pneumonia'],fontsize=16)\n",
        "plt.yticks(range(2),['Normal','Pneumonia'],fontsize=16)\n",
        "plt.title(\"leNet confusion_matrix\")\n",
        "\n",
        "plt.show()"
      ],
      "metadata": {
        "colab": {
          "base_uri": "https://localhost:8080/",
          "height": 557
        },
        "id": "CXsm-rENk_VC",
        "outputId": "a77dacda-6aed-40ed-ca81-cce6af550efa"
      },
      "execution_count": 30,
      "outputs": [
        {
          "output_type": "display_data",
          "data": {
            "text/plain": [
              "<Figure size 432x288 with 0 Axes>"
            ]
          },
          "metadata": {}
        },
        {
          "output_type": "display_data",
          "data": {
            "image/png": "[encoded data removed]",
            "text/plain": [
              "<Figure size 864x576 with 1 Axes>"
            ]
          },
          "metadata": {
            "needs_background": "light"
          }
        }
      ]
    },
    {
      "cell_type": "code",
      "source": [
        "# save it as a h5 file\n",
        "\n",
        "import tensorflow as tf\n",
        "\n",
        "from keras.models import load_model\n",
        "\n",
        "model.save('model_LeNet.h5')"
      ],
      "metadata": {
        "id": "8UzTcci-lC12"
      },
      "execution_count": 22,
      "outputs": []
    },
    {
      "cell_type": "code",
      "source": [
        "from keras.models import load_model"
      ],
      "metadata": {
        "id": "1PaMHJKMlGcA"
      },
      "execution_count": 23,
      "outputs": []
    },
    {
      "cell_type": "code",
      "source": [
        "from keras.preprocessing import image\n"
      ],
      "metadata": {
        "id": "WtMO1ThplJRy"
      },
      "execution_count": 24,
      "outputs": []
    },
    {
      "cell_type": "code",
      "source": [
        "model=load_model('model_LeNet.h5')"
      ],
      "metadata": {
        "id": "bPgUP4XYlNN2"
      },
      "execution_count": 126,
      "outputs": []
    },
    {
      "cell_type": "code",
      "source": [
        "img=image.load_img('/content/drive/MyDrive/Dataset/chest_xray/val/NORMAL/NORMAL2-IM-1430-0001.jpeg',target_size=(28,28))\n",
        "#img_path=input(\"enter image\")\n",
        "#img=image.load_img(img_path,target_size=(224,224))"
      ],
      "metadata": {
        "id": "Qc-rkeaNlQfn"
      },
      "execution_count": 134,
      "outputs": []
    },
    {
      "cell_type": "code",
      "source": [
        "x=image.img_to_array(img)"
      ],
      "metadata": {
        "id": "cnM46LGXlUBA"
      },
      "execution_count": 135,
      "outputs": []
    },
    {
      "cell_type": "code",
      "source": [
        "x=np.expand_dims(x, axis=0)"
      ],
      "metadata": {
        "id": "NIbJOu35lUEL"
      },
      "execution_count": 136,
      "outputs": []
    },
    {
      "cell_type": "code",
      "source": [
        "img_data=preprocess_input(x)"
      ],
      "metadata": {
        "id": "-sY-MI9xlUHV"
      },
      "execution_count": 137,
      "outputs": []
    },
    {
      "cell_type": "code",
      "source": [
        "classes=model.predict(img_data)"
      ],
      "metadata": {
        "id": "qXS29iHplUOq"
      },
      "execution_count": 138,
      "outputs": []
    },
    {
      "cell_type": "code",
      "source": [
        "texted_img=cv2.putText(img=np.copy(img_data),org=(50,50),fontFace=0, fontScale=1,color=(0,0,2), text=str(x))\n",
        "plt.imshow(texted_img)"
      ],
      "metadata": {
        "id": "z3B3Pz282z6z"
      },
      "execution_count": null,
      "outputs": []
    },
    {
      "cell_type": "code",
      "source": [
        "result=int(classes[0][0])\n",
        "result"
      ],
      "metadata": {
        "id": "ALSitj5fliK6",
        "colab": {
          "base_uri": "https://localhost:8080/"
        },
        "outputId": "d283d2e7-2bf6-47f6-f97b-bf5b2b91e2af"
      },
      "execution_count": 139,
      "outputs": [
        {
          "output_type": "execute_result",
          "data": {
            "text/plain": [
              "0"
            ]
          },
          "metadata": {},
          "execution_count": 139
        }
      ]
    },
    {
      "cell_type": "code",
      "source": [
        "if result==1:\n",
        "    print(\"Person is Affected By PNEUMONIA\")\n",
        "else:\n",
        "    print(\"Result is Normal\")"
      ],
      "metadata": {
        "id": "4IMdJXJ6lk8p",
        "colab": {
          "base_uri": "https://localhost:8080/"
        },
        "outputId": "28c20ce7-76f7-44e4-d00c-9ab115979785"
      },
      "execution_count": 140,
      "outputs": [
        {
          "output_type": "stream",
          "name": "stdout",
          "text": [
            "Result is Normal\n"
          ]
        }
      ]
    }
  ]
}