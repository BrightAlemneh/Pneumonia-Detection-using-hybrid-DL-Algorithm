{
  "cells": [
    {
      "cell_type": "code",
      "execution_count": null,
      "metadata": {
        "id": "mM0civY2QQL7"
      },
      "outputs": [],
      "source": [
        "\n",
        "import numpy as np \n",
        "import matplotlib.pyplot as plt\n",
        "import glob\n",
        "import cv2\n",
        "from keras.models import Model, Sequential\n",
        "from keras.layers import Dense, Flatten, Conv2D, MaxPooling2D\n",
        "#from keras.layers.normalization import BatchNormalizationsp\n",
        "from tensorflow.keras.layers import BatchNormalization\n",
        "import os\n",
        "import pandas as pd\n",
        "\n",
        "import seaborn as sns\n",
        "from keras.applications.vgg16 import VGG16\n",
        "import tracemalloc\n",
        "import time "
      ]
    },
    {
      "cell_type": "code",
      "execution_count": null,
      "metadata": {
        "id": "iQeE2QDsZtIt"
      },
      "outputs": [],
      "source": [
        "begin=time.time()\n",
        "# starting the monitoring\n",
        "tracemalloc.start()"
      ]
    },
    {
      "cell_type": "code",
      "execution_count": null,
      "metadata": {
        "id": "Svz98iso48OV"
      },
      "outputs": [],
      "source": [
        "import cv2\n",
        "import os\n",
        "import glob\n",
        "import gc\n",
        "SIZE = 224  #Resize images\n",
        "\n",
        "def read_images(img_dir, xdim, ydim, nmax=5000) :\n",
        "    \"\"\" \n",
        "   Read images from subdirectories of img_dir\n",
        "    nmax images read in each directory at most\n",
        "    Returns:\n",
        "    X : list of images read, xdim*ydim matrices\n",
        "    y : list of digital labels\n",
        "    label : label name\n",
        "    label_names : list of names of directories read\n",
        "    \"\"\"\n",
        "    label = 0\n",
        "    label_names = []\n",
        "    X = []\n",
        "    y=[]\n",
        "    for dirname in os.listdir(img_dir):\n",
        "        print(dirname)\n",
        "        label_names.append(dirname)\n",
        "        data_path = os.path.join(img_dir + \"/\" + dirname,'*g')\n",
        "        files = glob.glob(data_path)\n",
        "        n=0\n",
        "        for f1 in files:\n",
        "            if n>nmax : break\n",
        "            img = cv2.imread(f1) # Reading image from directory\n",
        "            img = cv2.cvtColor(img, cv2.COLOR_BGR2RGB) # Conversion couleur RGB\n",
        "            img = cv2.resize(img, (xdim,ydim)) # Image resizing\n",
        "\n",
        "            X.append(np.array(img)) # Convert to table and add to image list\n",
        "            y.append(label) # Added image tag to tag list\n",
        "            n=n+1\n",
        "        print(n,' images read')\n",
        "        label = label+1\n",
        "    X = np.array(X)\n",
        "    y = np.array(y)\n",
        "    gc.collect() # Memory recovery\n",
        "    return X,y, label, label_names\n"
      ]
    },
    {
      "cell_type": "code",
      "execution_count": null,
      "metadata": {
        "colab": {
          "base_uri": "https://localhost:8080/"
        },
        "id": "xL-qHw44jAbz",
        "outputId": "03855718-a726-4557-b0e7-fb1f8635773e"
      },
      "outputs": [
        {
          "name": "stdout",
          "output_type": "stream",
          "text": [
            "NORMAL\n",
            "1341  images read\n",
            "PNEUMONIA\n",
            "3875  images read\n"
          ]
        }
      ],
      "source": [
        "#X,y,Nombre_classes,Classes = read_images(\"/content/drive/MyDrive/Dataset/chestXrayForExp/train\", 224, 224, 5216 )\n",
        "X,y,Nombre_classes,Classes = read_images(\"chest_xray/train\", 224, 224, 5216 )"
      ]
    },
    {
      "cell_type": "code",
      "execution_count": null,
      "metadata": {
        "id": "7_mWhKv0ZtIw"
      },
      "outputs": [],
      "source": [
        "#Create a function to calculate the files in a directory\n",
        "def calculate_files(x):\n",
        "    return (len([name for name in os.listdir(x)]))"
      ]
    },
    {
      "cell_type": "code",
      "execution_count": null,
      "metadata": {
        "id": "69gxSOfmZtIx",
        "outputId": "b32406b0-c48b-4bf6-ecd2-be55507a1a12"
      },
      "outputs": [
        {
          "data": {
            "image/png": "[encoded data removed]",
            "text/plain": [
              "<Figure size 432x288 with 1 Axes>"
            ]
          },
          "metadata": {
            "needs_background": "light"
          },
          "output_type": "display_data"
        }
      ],
      "source": [
        "#Assign links to each folder to variables\n",
        "train_normal = calculate_files('chest_xray/train/NORMAL')\n",
        "train_pneumonia = calculate_files('chest_xray/train/PNEUMONIA')\n",
        "test_normal = calculate_files('chest_xray/test/NORMAL')\n",
        "test_pneumonia = calculate_files('chest_xray/test/PNEUMONIA')\n",
        "\n",
        "#Create a dataframe with count of each class in the train dataset\n",
        "train_barplot = pd.DataFrame({'number_of_images':[train_normal,train_pneumonia], 'disease':['normal', 'pneumonia']})\n",
        "#display(train_barplot)\n",
        "#Plot classes of the train dataset\n",
        "import seaborn as sns\n",
        "sns.barplot(y = 'number_of_images', x = 'disease', \n",
        "            data = train_barplot,\n",
        "            palette=(\"BuPu\")).set_title('Classes in the train dataset');"
      ]
    },
    {
      "cell_type": "code",
      "execution_count": null,
      "metadata": {
        "id": "IglYdIFzZtIy",
        "outputId": "187285b9-a938-4271-ddd9-f844c4b05140"
      },
      "outputs": [
        {
          "data": {
            "text/html": [
              "<div>\n",
              "<style scoped>\n",
              "    .dataframe tbody tr th:only-of-type {\n",
              "        vertical-align: middle;\n",
              "    }\n",
              "\n",
              "    .dataframe tbody tr th {\n",
              "        vertical-align: top;\n",
              "    }\n",
              "\n",
              "    .dataframe thead th {\n",
              "        text-align: right;\n",
              "    }\n",
              "</style>\n",
              "<table border=\"1\" class=\"dataframe\">\n",
              "  <thead>\n",
              "    <tr style=\"text-align: right;\">\n",
              "      <th></th>\n",
              "      <th>number_of_images</th>\n",
              "      <th>disease</th>\n",
              "    </tr>\n",
              "  </thead>\n",
              "  <tbody>\n",
              "    <tr>\n",
              "      <th>0</th>\n",
              "      <td>234</td>\n",
              "      <td>normal</td>\n",
              "    </tr>\n",
              "    <tr>\n",
              "      <th>1</th>\n",
              "      <td>390</td>\n",
              "      <td>pneumonia</td>\n",
              "    </tr>\n",
              "  </tbody>\n",
              "</table>\n",
              "</div>"
            ],
            "text/plain": [
              "   number_of_images    disease\n",
              "0               234     normal\n",
              "1               390  pneumonia"
            ]
          },
          "metadata": {},
          "output_type": "display_data"
        },
        {
          "data": {
            "image/png": "[encoded data removed]",
            "text/plain": [
              "<Figure size 432x288 with 1 Axes>"
            ]
          },
          "metadata": {
            "needs_background": "light"
          },
          "output_type": "display_data"
        }
      ],
      "source": [
        "#Create a dataframe with count of each class in the test dataset \n",
        "test_barplot = pd.DataFrame({'number_of_images':[test_normal,test_pneumonia], 'disease':['normal', 'pneumonia']})\n",
        "display(test_barplot)\n",
        "#Plot classes of the test dataset\n",
        "sns.barplot(y = 'number_of_images', x = 'disease', \n",
        "            data = test_barplot,\n",
        "            palette=(\"BuPu\")).set_title('Classes in the test dataset');"
      ]
    },
    {
      "cell_type": "code",
      "execution_count": null,
      "metadata": {
        "id": "XNrl1NPyCraC"
      },
      "outputs": [],
      "source": [
        "\n",
        "#Encode labels from text to integers.\n",
        "#from sklearn import preprocessing\n",
        "#le = preprocessing.LabelEncoder()\n",
        "#le.fit(test_labels)\n",
        "#test_labels_encoded = le.transform(test_labels)\n",
        "#le.fit(train_labels)\n",
        "#train_labels_encoded = le.transform(train_labels)\n",
        "\n"
      ]
    },
    {
      "cell_type": "code",
      "execution_count": null,
      "metadata": {
        "id": "G4nKOJrue_J1"
      },
      "outputs": [],
      "source": [
        "from sklearn.model_selection import train_test_split\n",
        "\n",
        "x_train, x_test, y_train, y_test = train_test_split(X, y, test_size=0.1, random_state=1)"
      ]
    },
    {
      "cell_type": "code",
      "execution_count": null,
      "metadata": {
        "id": "W-xTM89ce9M-"
      },
      "outputs": [],
      "source": [
        "\n",
        "#Split data into test and train datasets (already split but assigning to meaningful convention)\n",
        "#x_train, y_train, x_test, y_test = train_images, train_labels_encoded, test_images, test_labels_encoded\n",
        "#x_train, y_train, x_test, y_test = train_images, train_labels, test_images, test_labels\n",
        "###################################################################\n",
        "# Normalize pixel values to between 0 and 1\n",
        "x_train, x_test = x_train / 255.0, x_test / 255.0 \n"
      ]
    },
    {
      "cell_type": "code",
      "execution_count": null,
      "metadata": {
        "id": "haayJ2m4DkI3",
        "outputId": "ce3b13eb-823e-42fa-c281-5961d7e45a66"
      },
      "outputs": [
        {
          "data": {
            "text/plain": [
              "'\\nfrom tensorflow.keras.utils import to_categorical\\n\\ny_train_one_hot = to_categorical(y_train)\\ny_test_one_hot = to_categorical(y_test)\\n\\n'"
            ]
          },
          "execution_count": 9,
          "metadata": {},
          "output_type": "execute_result"
        }
      ],
      "source": [
        "#One hot encode y values for neural network. \n",
        "#from keras.utils import to_categorical\n",
        "\"\"\"\n",
        "from tensorflow.keras.utils import to_categorical\n",
        "\n",
        "y_train_one_hot = to_categorical(y_train)\n",
        "y_test_one_hot = to_categorical(y_test)\n",
        "\n",
        "\"\"\""
      ]
    },
    {
      "cell_type": "code",
      "execution_count": null,
      "metadata": {
        "id": "hU6oJ2LJe9Ua"
      },
      "outputs": [],
      "source": [
        "#############################\n",
        "#Load model wothout classifier/fully connected layers\n",
        "VGG_model = VGG16(weights='imagenet', include_top=False, input_shape=(SIZE, SIZE, 3))\n",
        "#VGG_model.summary()  #Trainable parameters will be 0\n",
        "\n",
        "#Make loaded layers as non-trainable. This is important as we want to work with pre-trained weights\n",
        "for layer in VGG_model.layers:\n",
        "\tlayer.trainable = False\n"
      ]
    },
    {
      "cell_type": "code",
      "execution_count": null,
      "metadata": {
        "colab": {
          "base_uri": "https://localhost:8080/"
        },
        "id": "A7ZGM3hnZJ10",
        "outputId": "85725e71-66ff-460b-fc4d-c413a8101117"
      },
      "outputs": [
        {
          "name": "stdout",
          "output_type": "stream",
          "text": [
            "Model: \"vgg16\"\n",
            "_________________________________________________________________\n",
            " Layer (type)                Output Shape              Param #   \n",
            "=================================================================\n",
            " input_1 (InputLayer)        [(None, 224, 224, 3)]     0         \n",
            "                                                                 \n",
            " block1_conv1 (Conv2D)       (None, 224, 224, 64)      1792      \n",
            "                                                                 \n",
            " block1_conv2 (Conv2D)       (None, 224, 224, 64)      36928     \n",
            "                                                                 \n",
            " block1_pool (MaxPooling2D)  (None, 112, 112, 64)      0         \n",
            "                                                                 \n",
            " block2_conv1 (Conv2D)       (None, 112, 112, 128)     73856     \n",
            "                                                                 \n",
            " block2_conv2 (Conv2D)       (None, 112, 112, 128)     147584    \n",
            "                                                                 \n",
            " block2_pool (MaxPooling2D)  (None, 56, 56, 128)       0         \n",
            "                                                                 \n",
            " block3_conv1 (Conv2D)       (None, 56, 56, 256)       295168    \n",
            "                                                                 \n",
            " block3_conv2 (Conv2D)       (None, 56, 56, 256)       590080    \n",
            "                                                                 \n",
            " block3_conv3 (Conv2D)       (None, 56, 56, 256)       590080    \n",
            "                                                                 \n",
            " block3_pool (MaxPooling2D)  (None, 28, 28, 256)       0         \n",
            "                                                                 \n",
            " block4_conv1 (Conv2D)       (None, 28, 28, 512)       1180160   \n",
            "                                                                 \n",
            " block4_conv2 (Conv2D)       (None, 28, 28, 512)       2359808   \n",
            "                                                                 \n",
            " block4_conv3 (Conv2D)       (None, 28, 28, 512)       2359808   \n",
            "                                                                 \n",
            " block4_pool (MaxPooling2D)  (None, 14, 14, 512)       0         \n",
            "                                                                 \n",
            " block5_conv1 (Conv2D)       (None, 14, 14, 512)       2359808   \n",
            "                                                                 \n",
            " block5_conv2 (Conv2D)       (None, 14, 14, 512)       2359808   \n",
            "                                                                 \n",
            " block5_conv3 (Conv2D)       (None, 14, 14, 512)       2359808   \n",
            "                                                                 \n",
            " block5_pool (MaxPooling2D)  (None, 7, 7, 512)         0         \n",
            "                                                                 \n",
            "=================================================================\n",
            "Total params: 14,714,688\n",
            "Trainable params: 0\n",
            "Non-trainable params: 14,714,688\n",
            "_________________________________________________________________\n"
          ]
        }
      ],
      "source": [
        "VGG_model.summary()  #Trainable parameters will be 0\n"
      ]
    },
    {
      "cell_type": "code",
      "execution_count": null,
      "metadata": {
        "colab": {
          "background_save": true
        },
        "id": "YFRygV-p9uSr"
      },
      "outputs": [],
      "source": [
        "#Now, let us use features from convolutional network for RF\n",
        "feature_extractor=VGG_model.predict(x_train)\n",
        "\n",
        "features = feature_extractor.reshape(feature_extractor.shape[0], -1 )\n",
        "\n",
        "X_for_training = features #This is our X input to RF\n"
      ]
    },
    {
      "cell_type": "code",
      "execution_count": null,
      "metadata": {
        "colab": {
          "background_save": true
        },
        "id": "KmkKpuYVGboI"
      },
      "outputs": [],
      "source": [
        "\n",
        "#RANDOM FOREST\n",
        "from sklearn.ensemble import RandomForestClassifier\n",
        "Rf_model = RandomForestClassifier(n_estimators = 50, random_state = 42)\n"
      ]
    },
    {
      "cell_type": "code",
      "execution_count": null,
      "metadata": {
        "colab": {
          "background_save": true
        },
        "id": "8tFJeaRtDBU_",
        "outputId": "6984e93b-50f5-4b36-b454-3b5364750c2e"
      },
      "outputs": [
        {
          "data": {
            "text/plain": [
              "RandomForestClassifier(n_estimators=50, random_state=42)"
            ]
          },
          "execution_count": 14,
          "metadata": {},
          "output_type": "execute_result"
        }
      ],
      "source": [
        "\n",
        "# Train the model on training data\n",
        "Rf_model.fit(X_for_training, y_train)\n",
        "\n",
        " #XGBOOST\n",
        "#import xgboost as xgb\n",
        "#model = xgb.XGBClassifier()\n",
        "#model.fit(X_for_training, y_train) #For sklearn no one hot encoding\n"
      ]
    },
    {
      "cell_type": "code",
      "execution_count": null,
      "metadata": {
        "colab": {
          "background_save": true
        },
        "id": "Wrt_RR2QDBY_"
      },
      "outputs": [],
      "source": [
        "#Send test data through same feature extractor process\n",
        "X_test_feature = VGG_model.predict(x_test)\n",
        "X_test_features = X_test_feature.reshape(X_test_feature.shape[0], -1)\n"
      ]
    },
    {
      "cell_type": "code",
      "execution_count": null,
      "metadata": {
        "id": "UkGUEwHy0M9m"
      },
      "outputs": [],
      "source": [
        "#print (\"Accuracy = \", metrics.accuracy_score(y_test, X_test_feature))\n"
      ]
    },
    {
      "cell_type": "code",
      "execution_count": null,
      "metadata": {
        "colab": {
          "background_save": true
        },
        "id": "5cDsnTDZDBcx"
      },
      "outputs": [],
      "source": [
        "\n",
        "#Now predict using the trained RF model. \n",
        "prediction = Rf_model.predict(X_test_features) "
      ]
    },
    {
      "cell_type": "code",
      "execution_count": null,
      "metadata": {
        "colab": {
          "background_save": true
        },
        "id": "-1tuQRbfZ3uO"
      },
      "outputs": [],
      "source": [
        "#Inverse le transform to get original label back. \n",
        "#prediction = le.inverse_transform(prediction)"
      ]
    },
    {
      "cell_type": "code",
      "execution_count": null,
      "metadata": {
        "id": "yDBPakdoqkr5"
      },
      "outputs": [],
      "source": [
        " "
      ]
    },
    {
      "cell_type": "code",
      "execution_count": null,
      "metadata": {
        "colab": {
          "base_uri": "https://localhost:8080/"
        },
        "id": "94CUD1EdDBgB",
        "outputId": "3c1a2873-794a-4c76-cf4a-ebf7e04acd55"
      },
      "outputs": [
        {
          "name": "stdout",
          "output_type": "stream",
          "text": [
            "Accuracy =  97.70114942528735\n"
          ]
        }
      ],
      "source": [
        "\n",
        "#Print overall accuracy\n",
        "from sklearn import metrics\n",
        "print (\"Accuracy = \", metrics.accuracy_score(y_test, prediction)*100)\n",
        "#print (\"Accuracy = \", metrics.accuracy_score(test_labels, prediction))\n",
        "\n",
        "#accuracy_score(test_labels,np.round(prediction))*100\n"
      ]
    },
    {
      "cell_type": "code",
      "execution_count": null,
      "metadata": {
        "colab": {
          "base_uri": "https://localhost:8080/"
        },
        "id": "-zA9X3OzDBjo",
        "outputId": "e19f8881-7167-4692-9bfe-2a0f5a93cf84"
      },
      "outputs": [
        {
          "name": "stdout",
          "output_type": "stream",
          "text": [
            "confusion_matrix===========\n",
            "[[118   7]\n",
            " [  5 392]]\n",
            "\n",
            "test_matrix==============\n",
            "precision: 94.39999999999999%\n",
            "Recall: 95.9349593495935%\n",
            "F1-scor: 95.16129032258065%\n"
          ]
        }
      ],
      "source": [
        "\n",
        "#Confusion Matrix - verify accuracy of each class\n",
        "from sklearn.metrics import confusion_matrix\n",
        "\n",
        "cm = confusion_matrix(y_test, prediction)\n",
        "\n",
        "tp, fp, fn ,tn = cm.ravel()\n",
        "print(\"confusion_matrix===========\")\n",
        "print(cm)\n",
        "print(\"\\ntest_matrix==============\")\n",
        "precision=tp/(tp+fp)*100\n",
        "recall=tp/(tp+fn)*100\n",
        "sensitivity=tn/(tn+fp)\n",
        "#print('accuracy: {}%'.format(acc))\n",
        "print('precision: {}%'.format(precision))\n",
        "print('Recall: {}%'.format(recall))\n",
        "print('F1-scor: {}%'.format(2*precision*recall/(precision+recall)))\n",
        "\n",
        "#sns.heatmap(cm, annot=True)"
      ]
    },
    {
      "cell_type": "code",
      "execution_count": null,
      "metadata": {
        "id": "0gLSv7UKx8Ib"
      },
      "outputs": [],
      "source": [
        "from sklearn.metrics import classification_report\n"
      ]
    },
    {
      "cell_type": "code",
      "execution_count": null,
      "metadata": {
        "colab": {
          "base_uri": "https://localhost:8080/"
        },
        "id": "amTahnjnt8I_",
        "outputId": "f6e1c65e-5aad-4376-cde4-f93084396ddb"
      },
      "outputs": [
        {
          "name": "stdout",
          "output_type": "stream",
          "text": [
            "              precision    recall  f1-score   support\n",
            "\n",
            "      Normal       0.96      0.94      0.95       125\n",
            "   Pneumonia       0.98      0.99      0.98       397\n",
            "\n",
            "    accuracy                           0.98       522\n",
            "   macro avg       0.97      0.97      0.97       522\n",
            "weighted avg       0.98      0.98      0.98       522\n",
            "\n"
          ]
        }
      ],
      "source": [
        "\n",
        "print(classification_report(y_test,prediction,target_names=['Normal','Pneumonia']))"
      ]
    },
    {
      "cell_type": "code",
      "execution_count": null,
      "metadata": {
        "colab": {
          "base_uri": "https://localhost:8080/",
          "height": 443
        },
        "id": "PJcQJ11DtvHO",
        "outputId": "b05acad8-e390-457f-fd01-8200a7d0d82e"
      },
      "outputs": [
        {
          "data": {
            "text/plain": [
              "<Figure size 432x288 with 0 Axes>"
            ]
          },
          "metadata": {},
          "output_type": "display_data"
        },
        {
          "data": {
            "image/png": "[encoded data removed]",
            "text/plain": [
              "<Figure size 576x432 with 1 Axes>"
            ]
          },
          "metadata": {
            "needs_background": "light"
          },
          "output_type": "display_data"
        }
      ],
      "source": [
        "from mlxtend.plotting import plot_confusion_matrix\n",
        "plt.figure()\n",
        "\n",
        "plot_confusion_matrix(cm, figsize=(8,6),hide_ticks=True, cmap=plt.cm.Blues)\n",
        "plt.xticks(range(2),['Normal','Pneumonia'],fontsize=16)\n",
        "plt.yticks(range(2),['Normal','Pneumonia'],fontsize=16)\n",
        "plt.title(\"mobileNet confusion_matrix\")\n",
        "\n",
        "plt.show()\n"
      ]
    },
    {
      "cell_type": "code",
      "execution_count": null,
      "metadata": {
        "colab": {
          "base_uri": "https://localhost:8080/",
          "height": 305
        },
        "id": "wAWNjbLwDBoX",
        "outputId": "ff2d1933-5b2f-4aba-f333-89814313a176"
      },
      "outputs": [
        {
          "name": "stdout",
          "output_type": "stream",
          "text": [
            "The prediction for this image is:  1\n",
            "The actual label for this image is:  1\n"
          ]
        },
        {
          "data": {
            "image/png": "[encoded data removed]",
            "text/plain": [
              "<Figure size 432x288 with 1 Axes>"
            ]
          },
          "metadata": {
            "needs_background": "light"
          },
          "output_type": "display_data"
        }
      ],
      "source": [
        "\n",
        "#Check results on a few select images\n",
        "n=np.random.randint(0, x_test.shape[0])\n",
        "img = x_test[n]\n",
        "plt.imshow(img)\n",
        "input_img = np.expand_dims(img, axis=0) #Expand dims so the input is (num images, x, y, c)\n",
        "input_img_feature=VGG_model.predict(input_img)\n",
        "input_img_features=input_img_feature.reshape(input_img_feature.shape[0], -1)\n",
        "prediction = Rf_model.predict(input_img_features)[0] \n",
        "#prediction = le.inverse_transform([prediction])  #Reverse the label encoder to original name\n",
        "print(\"The prediction for this image is: \", prediction)\n",
        "print(\"The actual label for this image is: \", y_test[n])"
      ]
    },
    {
      "cell_type": "code",
      "execution_count": null,
      "metadata": {
        "id": "x3PV1LGuZtI7",
        "outputId": "483c1a36-9054-49ec-e31e-3f9b4e39da88"
      },
      "outputs": [
        {
          "name": "stdout",
          "output_type": "stream",
          "text": [
            "409.3326327800751\n",
            "(10490064876, 10805383976)\n"
          ]
        }
      ],
      "source": [
        "end=time.time()\n",
        "total_time=end-begin\n",
        "# displaying the time taken\n",
        "print(total_time)\n",
        "\n",
        "# displaying the memory\n",
        "print(tracemalloc.get_traced_memory())\n",
        " \n",
        "# stopping the library\n",
        "tracemalloc.stop()"
      ]
    },
    {
      "cell_type": "code",
      "execution_count": null,
      "metadata": {
        "id": "rlfuaymGryzM"
      },
      "outputs": [],
      "source": [
        "# allow user to upload the image to predict\n",
        "from google.colab import files\n",
        "uploaded = files.upload()\n",
        "\n",
        "for fn in uploaded.keys():\n",
        "  # predict images\n",
        "  path = '/content/' + fn\n",
        "  img = image.load_img(path, target_size=(224,224))\n",
        "  x1 = image.img_to_array(img)\n",
        "  x1 = np.expand_dims(x1, axis =0)\n",
        "  img_data=preprocess_input(x1)\n",
        "  #images = np.vstack([x])\n",
        "  classes = Rf_model.predict(img_data, batch_size = 32)\n",
        "  result=int(classes[0][0])\n",
        "  if result==1:\n",
        "      print(\"Person is Affected By PNEUMONIA\")\n",
        "      plt.imshow(img)\n",
        "  else:\n",
        "     print(\"Result is Normal\")\n",
        "     plt.imshow(img)\n"
      ]
    },
    {
      "cell_type": "code",
      "execution_count": null,
      "metadata": {
        "id": "gbvXz9U_ZtI7"
      },
      "outputs": [],
      "source": [
        ""
      ]
    }
  ],
  "metadata": {
    "colab": {
      "collapsed_sections": [],
      "name": "Random_Forest_updated_VGG16.ipynb",
      "provenance": []
    },
    "kernelspec": {
      "display_name": "Python 3 (ipykernel)",
      "language": "python",
      "name": "python3"
    },
    "language_info": {
      "codemirror_mode": {
        "name": "ipython",
        "version": 3
      },
      "file_extension": ".py",
      "mimetype": "text/x-python",
      "name": "python",
      "nbconvert_exporter": "python",
      "pygments_lexer": "ipython3",
      "version": "3.9.7"
    }
  },
  "nbformat": 4,
  "nbformat_minor": 0
}