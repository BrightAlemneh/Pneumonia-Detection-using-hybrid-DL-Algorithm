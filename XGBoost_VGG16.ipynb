{
  "cells": [
    {
      "cell_type": "code",
      "execution_count": null,
      "metadata": {
        "id": "mM0civY2QQL7"
      },
      "outputs": [],
      "source": [
        "\n",
        "import numpy as np \n",
        "import matplotlib.pyplot as plt\n",
        "import glob\n",
        "import cv2\n",
        "from keras.models import Model, Sequential\n",
        "from keras.layers import Dense, Flatten, Conv2D, MaxPooling2D\n",
        "#from keras.layers.normalization import BatchNormalizationsp\n",
        "from tensorflow.keras.layers import BatchNormalization\n",
        "import os\n",
        "import seaborn as sns\n",
        "from keras.applications.vgg16 import VGG16\n"
      ]
    },
    {
      "cell_type": "code",
      "execution_count": null,
      "metadata": {
        "id": "Svz98iso48OV"
      },
      "outputs": [],
      "source": [
        "import cv2\n",
        "import os\n",
        "import glob\n",
        "import gc\n",
        "SIZE = 224  #Resize images\n",
        "\n",
        "def read_images(img_dir, xdim, ydim, nmax=5000) :\n",
        "    \"\"\" \n",
        "   Read images from subdirectories of img_dir\n",
        "    nmax images read in each directory at most\n",
        "    Returns:\n",
        "    X : list of images read, xdim*ydim matrices\n",
        "    y : list of digital labels\n",
        "    label : label name\n",
        "    label_names : list of names of directories read\n",
        "    \"\"\"\n",
        "    label = 0\n",
        "    label_names = []\n",
        "    X = []\n",
        "    y=[]\n",
        "    for dirname in os.listdir(img_dir):\n",
        "        print(dirname)\n",
        "        label_names.append(dirname)\n",
        "        data_path = os.path.join(img_dir + \"/\" + dirname,'*g')\n",
        "        files = glob.glob(data_path)\n",
        "        n=0\n",
        "        for f1 in files:\n",
        "            if n>nmax : break\n",
        "            img = cv2.imread(f1) # Reading image from directory\n",
        "            img = cv2.cvtColor(img, cv2.COLOR_BGR2RGB) # Conversion couleur RGB\n",
        "            img = cv2.resize(img, (xdim,ydim)) # Image resizing\n",
        "\n",
        "            X.append(np.array(img)) # Convert to table and add to image list\n",
        "            y.append(label) # Added image tag to tag list\n",
        "            n=n+1\n",
        "        print(n,' images read')\n",
        "        label = label+1\n",
        "    X = np.array(X)\n",
        "    y = np.array(y)\n",
        "    gc.collect() # Memory recovery\n",
        "    return X,y, label, label_names\n"
      ]
    },
    {
      "cell_type": "code",
      "execution_count": null,
      "metadata": {
        "colab": {
          "base_uri": "https://localhost:8080/"
        },
        "id": "xL-qHw44jAbz",
        "outputId": "03855718-a726-4557-b0e7-fb1f8635773e"
      },
      "outputs": [
        {
          "name": "stdout",
          "output_type": "stream",
          "text": [
            "NORMAL\n",
            "1341  images read\n",
            "PNEUMONIA\n",
            "3875  images read\n"
          ]
        }
      ],
      "source": [
        "X,y,Nombre_classes,Classes = read_images(\"chest_xray/train\", 224, 224, 5216 )"
      ]
    },
    {
      "cell_type": "code",
      "execution_count": null,
      "metadata": {
        "id": "XNrl1NPyCraC",
        "outputId": "3c1257db-05f9-429b-87c2-a6fd0769ff6a"
      },
      "outputs": [
        {
          "ename": "NameError",
          "evalue": "name 'test_labels' is not defined",
          "output_type": "error",
          "traceback": [
            "\u001b[1;31m---------------------------------------------------------------------------\u001b[0m",
            "\u001b[1;31mNameError\u001b[0m                                 Traceback (most recent call last)",
            "\u001b[1;32m~\\AppData\\Local\\Temp/ipykernel_9716/2403444832.py\u001b[0m in \u001b[0;36m<module>\u001b[1;34m\u001b[0m\n\u001b[0;32m      2\u001b[0m \u001b[1;32mfrom\u001b[0m \u001b[0msklearn\u001b[0m \u001b[1;32mimport\u001b[0m \u001b[0mpreprocessing\u001b[0m\u001b[1;33m\u001b[0m\u001b[1;33m\u001b[0m\u001b[0m\n\u001b[0;32m      3\u001b[0m \u001b[0mle\u001b[0m \u001b[1;33m=\u001b[0m \u001b[0mpreprocessing\u001b[0m\u001b[1;33m.\u001b[0m\u001b[0mLabelEncoder\u001b[0m\u001b[1;33m(\u001b[0m\u001b[1;33m)\u001b[0m\u001b[1;33m\u001b[0m\u001b[1;33m\u001b[0m\u001b[0m\n\u001b[1;32m----> 4\u001b[1;33m \u001b[0mle\u001b[0m\u001b[1;33m.\u001b[0m\u001b[0mfit\u001b[0m\u001b[1;33m(\u001b[0m\u001b[0mtest_labels\u001b[0m\u001b[1;33m)\u001b[0m\u001b[1;33m\u001b[0m\u001b[1;33m\u001b[0m\u001b[0m\n\u001b[0m\u001b[0;32m      5\u001b[0m \u001b[0mtest_labels_encoded\u001b[0m \u001b[1;33m=\u001b[0m \u001b[0mle\u001b[0m\u001b[1;33m.\u001b[0m\u001b[0mtransform\u001b[0m\u001b[1;33m(\u001b[0m\u001b[0mtest_labels\u001b[0m\u001b[1;33m)\u001b[0m\u001b[1;33m\u001b[0m\u001b[1;33m\u001b[0m\u001b[0m\n\u001b[0;32m      6\u001b[0m \u001b[0mle\u001b[0m\u001b[1;33m.\u001b[0m\u001b[0mfit\u001b[0m\u001b[1;33m(\u001b[0m\u001b[0mtrain_labels\u001b[0m\u001b[1;33m)\u001b[0m\u001b[1;33m\u001b[0m\u001b[1;33m\u001b[0m\u001b[0m\n",
            "\u001b[1;31mNameError\u001b[0m: name 'test_labels' is not defined"
          ]
        }
      ],
      "source": [
        "\n",
        "#Encode labels from text to integers.\n",
        "from sklearn import preprocessing\n",
        "le = preprocessing.LabelEncoder()\n",
        "le.fit(test_labels)\n",
        "test_labels_encoded = le.transform(test_labels)\n",
        "le.fit(train_labels)\n",
        "train_labels_encoded = le.transform(train_labels)\n",
        "\n"
      ]
    },
    {
      "cell_type": "code",
      "execution_count": null,
      "metadata": {
        "id": "G4nKOJrue_J1"
      },
      "outputs": [],
      "source": [
        "from sklearn.model_selection import train_test_split\n",
        "\n",
        "x_train, x_test, y_train, y_test = train_test_split(X, y, test_size=0.1, random_state=42)"
      ]
    },
    {
      "cell_type": "code",
      "execution_count": null,
      "metadata": {
        "id": "W-xTM89ce9M-"
      },
      "outputs": [],
      "source": [
        "\n",
        "#Split data into test and train datasets (already split but assigning to meaningful convention)\n",
        "#x_train, y_train, x_test, y_test = train_images, train_labels_encoded, test_images, test_labels_encoded\n",
        "#x_train, y_train, x_test, y_test = train_images, train_labels, test_images, test_labels\n",
        "###################################################################\n",
        "# Normalize pixel values to between 0 and 1\n",
        "x_train, x_test = x_train / 255.0, x_test / 255.0 \n"
      ]
    },
    {
      "cell_type": "code",
      "execution_count": null,
      "metadata": {
        "id": "haayJ2m4DkI3"
      },
      "outputs": [],
      "source": [
        "#One hot encode y values for neural network. \n",
        "#from keras.utils import to_categorical\n",
        "from tensorflow.keras.utils import to_categorical\n",
        "\n",
        "y_train_one_hot = to_categorical(y_train)\n",
        "y_test_one_hot = to_categorical(y_test)\n"
      ]
    },
    {
      "cell_type": "code",
      "execution_count": null,
      "metadata": {
        "id": "hU6oJ2LJe9Ua"
      },
      "outputs": [],
      "source": [
        "#############################\n",
        "#Load model wothout classifier/fully connected layers\n",
        "VGG_model = VGG16(weights='imagenet', include_top=False, input_shape=(SIZE, SIZE, 3))\n",
        "#VGG_model.summary()  #Trainable parameters will be 0\n",
        "\n",
        "#Make loaded layers as non-trainable. This is important as we want to work with pre-trained weights\n",
        "for layer in VGG_model.layers:\n",
        "\tlayer.trainable = False\n"
      ]
    },
    {
      "cell_type": "code",
      "execution_count": null,
      "metadata": {
        "colab": {
          "base_uri": "https://localhost:8080/"
        },
        "id": "A7ZGM3hnZJ10",
        "outputId": "85725e71-66ff-460b-fc4d-c413a8101117"
      },
      "outputs": [
        {
          "name": "stdout",
          "output_type": "stream",
          "text": [
            "Model: \"vgg16\"\n",
            "_________________________________________________________________\n",
            " Layer (type)                Output Shape              Param #   \n",
            "=================================================================\n",
            " input_1 (InputLayer)        [(None, 224, 224, 3)]     0         \n",
            "                                                                 \n",
            " block1_conv1 (Conv2D)       (None, 224, 224, 64)      1792      \n",
            "                                                                 \n",
            " block1_conv2 (Conv2D)       (None, 224, 224, 64)      36928     \n",
            "                                                                 \n",
            " block1_pool (MaxPooling2D)  (None, 112, 112, 64)      0         \n",
            "                                                                 \n",
            " block2_conv1 (Conv2D)       (None, 112, 112, 128)     73856     \n",
            "                                                                 \n",
            " block2_conv2 (Conv2D)       (None, 112, 112, 128)     147584    \n",
            "                                                                 \n",
            " block2_pool (MaxPooling2D)  (None, 56, 56, 128)       0         \n",
            "                                                                 \n",
            " block3_conv1 (Conv2D)       (None, 56, 56, 256)       295168    \n",
            "                                                                 \n",
            " block3_conv2 (Conv2D)       (None, 56, 56, 256)       590080    \n",
            "                                                                 \n",
            " block3_conv3 (Conv2D)       (None, 56, 56, 256)       590080    \n",
            "                                                                 \n",
            " block3_pool (MaxPooling2D)  (None, 28, 28, 256)       0         \n",
            "                                                                 \n",
            " block4_conv1 (Conv2D)       (None, 28, 28, 512)       1180160   \n",
            "                                                                 \n",
            " block4_conv2 (Conv2D)       (None, 28, 28, 512)       2359808   \n",
            "                                                                 \n",
            " block4_conv3 (Conv2D)       (None, 28, 28, 512)       2359808   \n",
            "                                                                 \n",
            " block4_pool (MaxPooling2D)  (None, 14, 14, 512)       0         \n",
            "                                                                 \n",
            " block5_conv1 (Conv2D)       (None, 14, 14, 512)       2359808   \n",
            "                                                                 \n",
            " block5_conv2 (Conv2D)       (None, 14, 14, 512)       2359808   \n",
            "                                                                 \n",
            " block5_conv3 (Conv2D)       (None, 14, 14, 512)       2359808   \n",
            "                                                                 \n",
            " block5_pool (MaxPooling2D)  (None, 7, 7, 512)         0         \n",
            "                                                                 \n",
            "=================================================================\n",
            "Total params: 14,714,688\n",
            "Trainable params: 0\n",
            "Non-trainable params: 14,714,688\n",
            "_________________________________________________________________\n"
          ]
        }
      ],
      "source": [
        "VGG_model.summary()  #Trainable parameters will be 0\n"
      ]
    },
    {
      "cell_type": "code",
      "execution_count": null,
      "metadata": {
        "id": "aTwbZyeP9gUE"
      },
      "outputs": [],
      "source": [
        " \n",
        "\n",
        "#x3 = Flatten()(VGG_model.output)\n",
        "#prediction = Dense(1, activation='sigmoid')(x3)  \n",
        "# create a model object   \n",
        "#model= Model(inputs=VGG_model.input, outputs=prediction)\n",
        "# view the structure of the model3\n",
        "\n",
        "#model.summary()  #Trainable parameters will be 0\n"
      ]
    },
    {
      "cell_type": "code",
      "execution_count": null,
      "metadata": {
        "colab": {
          "background_save": true
        },
        "id": "YFRygV-p9uSr"
      },
      "outputs": [],
      "source": [
        "#Now, let us use features from convolutional network for RF\n",
        "feature_extractor=VGG_model.predict(x_train)\n",
        "\n",
        "features = feature_extractor.reshape(feature_extractor.shape[0], -1 )\n",
        "\n",
        "X_for_training = features #This is our X input to RF\n"
      ]
    },
    {
      "cell_type": "code",
      "execution_count": null,
      "metadata": {
        "colab": {
          "background_save": true
        },
        "id": "KmkKpuYVGboI"
      },
      "outputs": [],
      "source": [
        "\n",
        "#RANDOM FOREST\n",
        "#from sklearn.ensemble import RandomForestClassifier\n",
        "#Rf_model = RandomForestClassifier(n_estimators = 50, random_state = 1)\n"
      ]
    },
    {
      "cell_type": "code",
      "execution_count": null,
      "metadata": {
        "colab": {
          "background_save": true
        },
        "id": "8tFJeaRtDBU_",
        "outputId": "afb49671-cff4-452b-b245-17f608241367"
      },
      "outputs": [
        {
          "data": {
            "text/plain": [
              "XGBClassifier(base_score=0.5, booster='gbtree', callbacks=None,\n",
              "              colsample_bylevel=1, colsample_bynode=1, colsample_bytree=1,\n",
              "              early_stopping_rounds=None, enable_categorical=False,\n",
              "              eval_metric=None, gamma=0, gpu_id=-1, grow_policy='depthwise',\n",
              "              importance_type=None, interaction_constraints='',\n",
              "              learning_rate=0.300000012, max_bin=256, max_cat_to_onehot=4,\n",
              "              max_delta_step=0, max_depth=6, max_leaves=0, min_child_weight=1,\n",
              "              missing=nan, monotone_constraints='()', n_estimators=100,\n",
              "              n_jobs=0, num_parallel_tree=1, predictor='auto', random_state=0,\n",
              "              reg_alpha=0, reg_lambda=1, ...)"
            ]
          },
          "execution_count": 12,
          "metadata": {},
          "output_type": "execute_result"
        }
      ],
      "source": [
        "\n",
        "# Train the model on training data\n",
        "#Rf_model.fit(X_for_training, y_train)\n",
        "#XGBOOST\n",
        "import xgboost as xgb\n",
        "Rf_model = xgb.XGBClassifier()\n",
        "Rf_model.fit(X_for_training, y_train) #For sklearn no one hot encoding\n"
      ]
    },
    {
      "cell_type": "code",
      "execution_count": null,
      "metadata": {
        "colab": {
          "background_save": true
        },
        "id": "Wrt_RR2QDBY_"
      },
      "outputs": [],
      "source": [
        "#Send test data through same feature extractor process\n",
        "X_test_feature = VGG_model.predict(x_test)\n",
        "X_test_features = X_test_feature.reshape(X_test_feature.shape[0], -1)\n"
      ]
    },
    {
      "cell_type": "code",
      "execution_count": null,
      "metadata": {
        "colab": {
          "background_save": true
        },
        "id": "5cDsnTDZDBcx"
      },
      "outputs": [],
      "source": [
        "\n",
        "#Now predict using the trained RF model. \n",
        "prediction = Rf_model.predict(X_test_features) "
      ]
    },
    {
      "cell_type": "code",
      "execution_count": null,
      "metadata": {
        "colab": {
          "background_save": true
        },
        "id": "-1tuQRbfZ3uO"
      },
      "outputs": [],
      "source": [
        "#Inverse le transform to get original label back. \n",
        "#prediction = le.inverse_transform(prediction)"
      ]
    },
    {
      "cell_type": "code",
      "execution_count": null,
      "metadata": {
        "colab": {
          "base_uri": "https://localhost:8080/"
        },
        "id": "94CUD1EdDBgB",
        "outputId": "3c1a2873-794a-4c76-cf4a-ebf7e04acd55"
      },
      "outputs": [
        {
          "name": "stdout",
          "output_type": "stream",
          "text": [
            "Accuracy =  0.9693486590038314\n"
          ]
        }
      ],
      "source": [
        "\n",
        "#Print overall accuracy\n",
        "from sklearn import metrics\n",
        "print (\"Accuracy = \", metrics.accuracy_score(y_test, prediction))\n",
        "#print (\"Accuracy = \", metrics.accuracy_score(test_labels, prediction))\n",
        "\n",
        "#accuracy_score(test_labels,np.round(prediction))*100\n"
      ]
    },
    {
      "cell_type": "code",
      "execution_count": null,
      "metadata": {
        "colab": {
          "base_uri": "https://localhost:8080/"
        },
        "id": "LO2SpT61umkv",
        "outputId": "4117628c-d126-45da-c589-54b93158e5b4"
      },
      "outputs": [
        {
          "name": "stdout",
          "output_type": "stream",
          "text": [
            "Accuracy =  96.93486590038314\n"
          ]
        }
      ],
      "source": [
        "\n",
        "print (\"Accuracy = \", metrics.accuracy_score(y_test, prediction)*100)"
      ]
    },
    {
      "cell_type": "code",
      "execution_count": null,
      "metadata": {
        "colab": {
          "base_uri": "https://localhost:8080/"
        },
        "id": "-zA9X3OzDBjo",
        "outputId": "e19f8881-7167-4692-9bfe-2a0f5a93cf84"
      },
      "outputs": [
        {
          "name": "stdout",
          "output_type": "stream",
          "text": [
            "confusion_matrix===========\n",
            "[[140  10]\n",
            " [  6 366]]\n",
            "\n",
            "test_matrix==============\n",
            "precision: 93.33333333333333%\n",
            "Recall: 95.8904109589041%\n",
            "F1-scor: 94.59459459459458%\n"
          ]
        }
      ],
      "source": [
        "\n",
        "#Confusion Matrix - verify accuracy of each class\n",
        "from sklearn.metrics import confusion_matrix\n",
        "\n",
        "cm = confusion_matrix(y_test, prediction)\n",
        "\n",
        "tp, fp, fn ,tn = cm.ravel()\n",
        "print(\"confusion_matrix===========\")\n",
        "print(cm)\n",
        "print(\"\\ntest_matrix==============\")\n",
        "precision=tp/(tp+fp)*100\n",
        "recall=tp/(tp+fn)*100\n",
        "sensitivity=tn/(tn+fp)\n",
        "#print('accuracy: {}%'.format(acc))\n",
        "print('precision: {}%'.format(precision))\n",
        "print('Recall: {}%'.format(recall))\n",
        "print('F1-scor: {}%'.format(2*precision*recall/(precision+recall)))\n",
        "\n",
        "#sns.heatmap(cm, annot=True)"
      ]
    },
    {
      "cell_type": "code",
      "execution_count": null,
      "metadata": {
        "id": "0gLSv7UKx8Ib"
      },
      "outputs": [],
      "source": [
        "from sklearn.metrics import classification_report\n"
      ]
    },
    {
      "cell_type": "code",
      "execution_count": null,
      "metadata": {
        "colab": {
          "base_uri": "https://localhost:8080/"
        },
        "id": "amTahnjnt8I_",
        "outputId": "f6e1c65e-5aad-4376-cde4-f93084396ddb"
      },
      "outputs": [
        {
          "name": "stdout",
          "output_type": "stream",
          "text": [
            "              precision    recall  f1-score   support\n",
            "\n",
            "      Normal       0.96      0.93      0.95       150\n",
            "   Pneumonia       0.97      0.98      0.98       372\n",
            "\n",
            "    accuracy                           0.97       522\n",
            "   macro avg       0.97      0.96      0.96       522\n",
            "weighted avg       0.97      0.97      0.97       522\n",
            "\n"
          ]
        }
      ],
      "source": [
        "\n",
        "print(classification_report(y_test,prediction,target_names=['Normal','Pneumonia']))"
      ]
    },
    {
      "cell_type": "code",
      "execution_count": null,
      "metadata": {
        "colab": {
          "base_uri": "https://localhost:8080/",
          "height": 443
        },
        "id": "PJcQJ11DtvHO",
        "outputId": "b05acad8-e390-457f-fd01-8200a7d0d82e"
      },
      "outputs": [
        {
          "data": {
            "text/plain": [
              "<Figure size 432x288 with 0 Axes>"
            ]
          },
          "metadata": {},
          "output_type": "display_data"
        },
        {
          "data": {
            "image/png": "[encoded data removed]",
            "text/plain": [
              "<Figure size 576x432 with 1 Axes>"
            ]
          },
          "metadata": {
            "needs_background": "light"
          },
          "output_type": "display_data"
        }
      ],
      "source": [
        "from mlxtend.plotting import plot_confusion_matrix\n",
        "plt.figure()\n",
        "\n",
        "plot_confusion_matrix(cm, figsize=(8,6),hide_ticks=True, cmap=plt.cm.Blues)\n",
        "plt.xticks(range(2),['Normal','Pneumonia'],fontsize=16)\n",
        "plt.yticks(range(2),['Normal','Pneumonia'],fontsize=16)\n",
        "plt.title(\"mobileNet confusion_matrix\")\n",
        "\n",
        "plt.show()\n"
      ]
    },
    {
      "cell_type": "code",
      "execution_count": null,
      "metadata": {
        "colab": {
          "base_uri": "https://localhost:8080/",
          "height": 305
        },
        "id": "wAWNjbLwDBoX",
        "outputId": "ff2d1933-5b2f-4aba-f333-89814313a176"
      },
      "outputs": [
        {
          "name": "stdout",
          "output_type": "stream",
          "text": [
            "The prediction for this image is:  1\n",
            "The actual label for this image is:  1\n"
          ]
        },
        {
          "data": {
            "image/png": "[encoded data removed]",
            "text/plain": [
              "<Figure size 432x288 with 1 Axes>"
            ]
          },
          "metadata": {
            "needs_background": "light"
          },
          "output_type": "display_data"
        }
      ],
      "source": [
        "\n",
        "#Check results on a few select images\n",
        "n=np.random.randint(0, x_test.shape[0])\n",
        "img = x_test[n]\n",
        "plt.imshow(img)\n",
        "input_img = np.expand_dims(img, axis=0) #Expand dims so the input is (num images, x, y, c)\n",
        "input_img_feature=VGG_model.predict(input_img)\n",
        "input_img_features=input_img_feature.reshape(input_img_feature.shape[0], -1)\n",
        "prediction = Rf_model.predict(input_img_features)[0] \n",
        "#prediction = le.inverse_transform([prediction])  #Reverse the label encoder to original name\n",
        "print(\"The prediction for this image is: \", prediction)\n",
        "print(\"The actual label for this image is: \", y_test[n])"
      ]
    },
    {
      "cell_type": "code",
      "execution_count": null,
      "metadata": {
        "colab": {
          "base_uri": "https://localhost:8080/",
          "height": 420
        },
        "id": "rlfuaymGryzM",
        "outputId": "d4d502b9-862f-4bd4-a392-28243ef722f5"
      },
      "outputs": [
        {
          "ename": "ModuleNotFoundError",
          "evalue": "No module named 'google.colab'",
          "output_type": "error",
          "traceback": [
            "\u001b[1;31m---------------------------------------------------------------------------\u001b[0m",
            "\u001b[1;31mModuleNotFoundError\u001b[0m                       Traceback (most recent call last)",
            "\u001b[1;32m~\\AppData\\Local\\Temp/ipykernel_12068/3028124764.py\u001b[0m in \u001b[0;36m<module>\u001b[1;34m\u001b[0m\n\u001b[0;32m      1\u001b[0m \u001b[1;31m# allow user to upload the image to predict\u001b[0m\u001b[1;33m\u001b[0m\u001b[1;33m\u001b[0m\u001b[0m\n\u001b[1;32m----> 2\u001b[1;33m \u001b[1;32mfrom\u001b[0m \u001b[0mgoogle\u001b[0m\u001b[1;33m.\u001b[0m\u001b[0mcolab\u001b[0m \u001b[1;32mimport\u001b[0m \u001b[0mfiles\u001b[0m\u001b[1;33m\u001b[0m\u001b[1;33m\u001b[0m\u001b[0m\n\u001b[0m\u001b[0;32m      3\u001b[0m \u001b[0muploaded\u001b[0m \u001b[1;33m=\u001b[0m \u001b[0mfiles\u001b[0m\u001b[1;33m.\u001b[0m\u001b[0mupload\u001b[0m\u001b[1;33m(\u001b[0m\u001b[1;33m)\u001b[0m\u001b[1;33m\u001b[0m\u001b[1;33m\u001b[0m\u001b[0m\n\u001b[0;32m      4\u001b[0m \u001b[1;33m\u001b[0m\u001b[0m\n\u001b[0;32m      5\u001b[0m \u001b[1;32mfor\u001b[0m \u001b[0mfn\u001b[0m \u001b[1;32min\u001b[0m \u001b[0muploaded\u001b[0m\u001b[1;33m.\u001b[0m\u001b[0mkeys\u001b[0m\u001b[1;33m(\u001b[0m\u001b[1;33m)\u001b[0m\u001b[1;33m:\u001b[0m\u001b[1;33m\u001b[0m\u001b[1;33m\u001b[0m\u001b[0m\n",
            "\u001b[1;31mModuleNotFoundError\u001b[0m: No module named 'google.colab'"
          ]
        }
      ],
      "source": [
        "# allow user to upload the image to predict\n",
        "from google.colab import files\n",
        "uploaded = files.upload()\n",
        "\n",
        "for fn in uploaded.keys():\n",
        "  # predict images\n",
        "  path = '/content/' + fn\n",
        "  img = image.load_img(path, target_size=(224,224))\n",
        "  x1 = image.img_to_array(img)\n",
        "  x1 = np.expand_dims(x1, axis =0)\n",
        "  img_data=preprocess_input(x1)\n",
        "  #images = np.vstack([x])\n",
        "  classes = Rf_model.predict(img_data, batch_size = 32)\n",
        "  result=int(classes[0][0])\n",
        "  if result==1:\n",
        "      print(\"Person is Affected By PNEUMONIA\")\n",
        "      plt.imshow(img)\n",
        "  else:\n",
        "     print(\"Result is Normal\")\n",
        "     plt.imshow(img)\n"
      ]
    }
  ],
  "metadata": {
    "colab": {
      "collapsed_sections": [],
      "name": "XGBoost_VGG16.ipynb",
      "provenance": []
    },
    "kernelspec": {
      "display_name": "Python 3 (ipykernel)",
      "language": "python",
      "name": "python3"
    },
    "language_info": {
      "codemirror_mode": {
        "name": "ipython",
        "version": 3
      },
      "file_extension": ".py",
      "mimetype": "text/x-python",
      "name": "python",
      "nbconvert_exporter": "python",
      "pygments_lexer": "ipython3",
      "version": "3.9.7"
    }
  },
  "nbformat": 4,
  "nbformat_minor": 0
}