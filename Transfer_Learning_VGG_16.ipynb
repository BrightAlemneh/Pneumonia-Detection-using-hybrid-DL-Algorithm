{
  "cells": [
    {
      "cell_type": "markdown",
      "metadata": {
        "id": "R_xhbApKGJto"
      },
      "source": [
        "## Transfer Learning VGG 16 and VGG 19 using Keras"
      ]
    },
    {
      "cell_type": "code",
      "execution_count": null,
      "metadata": {
        "id": "XtS2J-3g4_G0"
      },
      "outputs": [],
      "source": [
        "# import the libraries as shown below\n",
        "\n",
        "from keras.layers import Input, Lambda, Dense, Flatten\n",
        "from keras.models import Model\n",
        "#from keras.applications.resnet50 import ResNet50\n",
        "#from keras.applications.inception_v3 import InceptionV3\n",
        "#from keras.applications.Xception import Xception\n",
        "#from keras.applications.MobileNetV2 import MobileNetV2\n",
        "from keras.applications.vgg16 import VGG16\n",
        "\n",
        "from keras.applications.vgg16 import preprocess_input\n",
        "from keras.preprocessing import image\n",
        "from keras.preprocessing.image import ImageDataGenerator\n",
        "from keras.models import Sequential\n",
        "import numpy as np\n",
        "from glob import glob\n",
        "from matplotlib import pyplot\n",
        "import matplotlib.pyplot as plt\n",
        "import pandas as pd"
      ]
    },
    {
      "cell_type": "code",
      "execution_count": null,
      "metadata": {
        "colab": {
          "base_uri": "https://localhost:8080/"
        },
        "id": "JwICYYxq5Axh",
        "outputId": "9e3dbff1-7760-437f-8318-c8c7d3cd890b"
      },
      "outputs": [
        {
          "output_type": "stream",
          "name": "stdout",
          "text": [
            "Mounted at /content/drive\n"
          ]
        }
      ],
      "source": [
        "from google.colab import drive\n",
        "drive.mount('/content/drive')"
      ]
    },
    {
      "cell_type": "code",
      "execution_count": null,
      "metadata": {
        "id": "9jr_zcv0DRfY"
      },
      "outputs": [],
      "source": [
        "# re-size all the images to this\n",
        "IMAGE_SIZE = [224, 224]"
      ]
    },
    {
      "cell_type": "code",
      "execution_count": null,
      "metadata": {
        "id": "mNBFwc7LGJtt"
      },
      "outputs": [],
      "source": [
        "\n",
        "\n",
        "train_path = '/content/drive/MyDrive/Dataset/chest_xray/train'\n",
        "valid_path = '/content/drive/MyDrive/Dataset/chest_xray/test'\n"
      ]
    },
    {
      "cell_type": "code",
      "execution_count": null,
      "metadata": {
        "colab": {
          "base_uri": "https://localhost:8080/"
        },
        "id": "HkY9AoPJGJtt",
        "outputId": "d9cc19ae-38f0-44ab-ebe6-6bb51f149ef6"
      },
      "outputs": [
        {
          "output_type": "stream",
          "name": "stdout",
          "text": [
            "Downloading data from https://storage.googleapis.com/tensorflow/keras-applications/vgg16/vgg16_weights_tf_dim_ordering_tf_kernels_notop.h5\n",
            "58892288/58889256 [==============================] - 0s 0us/step\n",
            "58900480/58889256 [==============================] - 0s 0us/step\n"
          ]
        }
      ],
      "source": [
        "# Import the Vgg 16 library as shown below and add preprocessing layer to the front of VGG\n",
        "# Here we will be using imagenet weights\n",
        "vgg = VGG16(input_shape=IMAGE_SIZE + [3], weights='imagenet', include_top=False)\n"
      ]
    },
    {
      "cell_type": "code",
      "execution_count": null,
      "metadata": {
        "id": "1QFaZdGjGJtu"
      },
      "outputs": [],
      "source": [
        "# don't train existing weights\n",
        "for layer in vgg.layers:\n",
        "    layer.trainable = False"
      ]
    },
    {
      "cell_type": "code",
      "execution_count": null,
      "metadata": {
        "id": "41PcMX0pGJtv"
      },
      "outputs": [],
      "source": [
        "  # useful for getting number of output classes\n",
        "folders = glob('/content/drive/MyDrive/Dataset/chest_xray/train/*')"
      ]
    },
    {
      "cell_type": "code",
      "execution_count": null,
      "metadata": {
        "id": "dcmdg8ftGJtv"
      },
      "outputs": [],
      "source": [
        "# our layers - you can add more if you want\n",
        "x = Flatten()(vgg.output)"
      ]
    },
    {
      "cell_type": "code",
      "execution_count": null,
      "metadata": {
        "id": "uWd5KpxiGJtv"
      },
      "outputs": [],
      "source": [
        "prediction = Dense(1, activation='sigmoid')(x)  #len(folders)\n",
        "# create a model object   \n",
        "model = Model(inputs=vgg.input, outputs=prediction)"
      ]
    },
    {
      "cell_type": "code",
      "execution_count": null,
      "metadata": {
        "colab": {
          "base_uri": "https://localhost:8080/"
        },
        "id": "D1aex6zlGJtw",
        "outputId": "1cf14c4a-6d14-4ffe-dba6-0e9d1a0af878"
      },
      "outputs": [
        {
          "output_type": "stream",
          "name": "stdout",
          "text": [
            "Model: \"model\"\n",
            "_________________________________________________________________\n",
            " Layer (type)                Output Shape              Param #   \n",
            "=================================================================\n",
            " input_1 (InputLayer)        [(None, 224, 224, 3)]     0         \n",
            "                                                                 \n",
            " block1_conv1 (Conv2D)       (None, 224, 224, 64)      1792      \n",
            "                                                                 \n",
            " block1_conv2 (Conv2D)       (None, 224, 224, 64)      36928     \n",
            "                                                                 \n",
            " block1_pool (MaxPooling2D)  (None, 112, 112, 64)      0         \n",
            "                                                                 \n",
            " block2_conv1 (Conv2D)       (None, 112, 112, 128)     73856     \n",
            "                                                                 \n",
            " block2_conv2 (Conv2D)       (None, 112, 112, 128)     147584    \n",
            "                                                                 \n",
            " block2_pool (MaxPooling2D)  (None, 56, 56, 128)       0         \n",
            "                                                                 \n",
            " block3_conv1 (Conv2D)       (None, 56, 56, 256)       295168    \n",
            "                                                                 \n",
            " block3_conv2 (Conv2D)       (None, 56, 56, 256)       590080    \n",
            "                                                                 \n",
            " block3_conv3 (Conv2D)       (None, 56, 56, 256)       590080    \n",
            "                                                                 \n",
            " block3_pool (MaxPooling2D)  (None, 28, 28, 256)       0         \n",
            "                                                                 \n",
            " block4_conv1 (Conv2D)       (None, 28, 28, 512)       1180160   \n",
            "                                                                 \n",
            " block4_conv2 (Conv2D)       (None, 28, 28, 512)       2359808   \n",
            "                                                                 \n",
            " block4_conv3 (Conv2D)       (None, 28, 28, 512)       2359808   \n",
            "                                                                 \n",
            " block4_pool (MaxPooling2D)  (None, 14, 14, 512)       0         \n",
            "                                                                 \n",
            " block5_conv1 (Conv2D)       (None, 14, 14, 512)       2359808   \n",
            "                                                                 \n",
            " block5_conv2 (Conv2D)       (None, 14, 14, 512)       2359808   \n",
            "                                                                 \n",
            " block5_conv3 (Conv2D)       (None, 14, 14, 512)       2359808   \n",
            "                                                                 \n",
            " block5_pool (MaxPooling2D)  (None, 7, 7, 512)         0         \n",
            "                                                                 \n",
            " flatten (Flatten)           (None, 25088)             0         \n",
            "                                                                 \n",
            " dense (Dense)               (None, 1)                 25089     \n",
            "                                                                 \n",
            "=================================================================\n",
            "Total params: 14,739,777\n",
            "Trainable params: 25,089\n",
            "Non-trainable params: 14,714,688\n",
            "_________________________________________________________________\n"
          ]
        }
      ],
      "source": [
        "\n",
        "# view the structure of the model\n",
        "model.summary()\n"
      ]
    },
    {
      "cell_type": "code",
      "execution_count": null,
      "metadata": {
        "id": "tEYVQ77rGJtw"
      },
      "outputs": [],
      "source": [
        "# tell the model what cost and optimization method to use\n",
        "model.compile(\n",
        "  loss='binary_crossentropy',\n",
        "  optimizer='adam',\n",
        "  metrics=['accuracy']\n",
        ")\n"
      ]
    },
    {
      "cell_type": "code",
      "execution_count": null,
      "metadata": {
        "id": "ZiiJu1BlGzLT"
      },
      "outputs": [],
      "source": [
        "# Use the Image Data Generator to import the images from the dataset\n",
        "from keras.preprocessing.image import ImageDataGenerator"
      ]
    },
    {
      "cell_type": "code",
      "execution_count": null,
      "metadata": {
        "id": "4NozJnyUGJtw"
      },
      "outputs": [],
      "source": [
        "\n",
        "train_datagen = ImageDataGenerator(rescale = 1./255,\n",
        "                                   shear_range = 0.2,\n",
        "                                   zoom_range = 0.2,\n",
        "                                   horizontal_flip = True)\n",
        "test_datagen = ImageDataGenerator(rescale = 1./255)"
      ]
    },
    {
      "cell_type": "code",
      "execution_count": null,
      "metadata": {
        "colab": {
          "base_uri": "https://localhost:8080/"
        },
        "id": "K5y0bpMqGJtx",
        "outputId": "bd1ba7f8-6396-4a14-c976-e02f0298c86a"
      },
      "outputs": [
        {
          "output_type": "stream",
          "name": "stdout",
          "text": [
            "Found 5302 images belonging to 2 classes.\n"
          ]
        }
      ],
      "source": [
        "# Make sure you provide the same target size as initialied for the image size\n",
        "training_set = train_datagen.flow_from_directory('/content/drive/MyDrive/Dataset/chest_xray/train',\n",
        "                                                 target_size = (224, 224),\n",
        "                                                 batch_size = 32,\n",
        "                                                 class_mode = 'binary')"
      ]
    },
    {
      "cell_type": "code",
      "execution_count": null,
      "metadata": {
        "colab": {
          "base_uri": "https://localhost:8080/"
        },
        "id": "CAIU4roTGJtx",
        "outputId": "5e058d9d-6d94-4bcb-e2cb-25b9bc2c20f3"
      },
      "outputs": [
        {
          "output_type": "stream",
          "name": "stdout",
          "text": [
            "Found 654 images belonging to 2 classes.\n"
          ]
        }
      ],
      "source": [
        "test_set = test_datagen.flow_from_directory('/content/drive/MyDrive/Dataset/chest_xray/test',\n",
        "                                            target_size = (224, 224),\n",
        "                                            batch_size = 32,\n",
        "                                            class_mode = 'binary')"
      ]
    },
    {
      "cell_type": "code",
      "execution_count": null,
      "metadata": {
        "colab": {
          "base_uri": "https://localhost:8080/"
        },
        "id": "BBYdrxpoGJtz",
        "outputId": "2f5fce30-f236-42a5-adfd-dc2d054df753"
      },
      "outputs": [
        {
          "output_type": "stream",
          "name": "stderr",
          "text": [
            "/usr/local/lib/python3.7/dist-packages/ipykernel_launcher.py:8: UserWarning: `Model.fit_generator` is deprecated and will be removed in a future version. Please use `Model.fit`, which supports generators.\n",
            "  \n"
          ]
        },
        {
          "output_type": "stream",
          "name": "stdout",
          "text": [
            "Epoch 1/10\n",
            "166/166 [==============================] - 680s 4s/step - loss: 0.1714 - accuracy: 0.9329 - val_loss: 0.3209 - val_accuracy: 0.8914\n",
            "Epoch 2/10\n",
            "166/166 [==============================] - 150s 900ms/step - loss: 0.1126 - accuracy: 0.9566 - val_loss: 0.3383 - val_accuracy: 0.8960\n",
            "Epoch 3/10\n",
            "166/166 [==============================] - 149s 897ms/step - loss: 0.0928 - accuracy: 0.9649 - val_loss: 0.2484 - val_accuracy: 0.9190\n",
            "Epoch 4/10\n",
            "166/166 [==============================] - 147s 885ms/step - loss: 0.0976 - accuracy: 0.9630 - val_loss: 0.3055 - val_accuracy: 0.9083\n",
            "Epoch 5/10\n",
            "166/166 [==============================] - 148s 890ms/step - loss: 0.0733 - accuracy: 0.9743 - val_loss: 0.2436 - val_accuracy: 0.9190\n",
            "Epoch 6/10\n",
            "166/166 [==============================] - 149s 894ms/step - loss: 0.0709 - accuracy: 0.9742 - val_loss: 0.4337 - val_accuracy: 0.8838\n",
            "Epoch 7/10\n",
            "166/166 [==============================] - 151s 906ms/step - loss: 0.0720 - accuracy: 0.9732 - val_loss: 0.5441 - val_accuracy: 0.8578\n",
            "Epoch 8/10\n",
            "166/166 [==============================] - 150s 900ms/step - loss: 0.0687 - accuracy: 0.9747 - val_loss: 0.2491 - val_accuracy: 0.9098\n",
            "Epoch 9/10\n",
            "166/166 [==============================] - 150s 900ms/step - loss: 0.0683 - accuracy: 0.9740 - val_loss: 0.2664 - val_accuracy: 0.9083\n",
            "Epoch 10/10\n",
            "166/166 [==============================] - 149s 896ms/step - loss: 0.0614 - accuracy: 0.9774 - val_loss: 0.2969 - val_accuracy: 0.9144\n"
          ]
        }
      ],
      "source": [
        "# fit the model\n",
        "# Run the cell. It will take some time to execute\n",
        "r = model.fit_generator(\n",
        "  training_set,\n",
        "  validation_data=test_set,\n",
        "  epochs=10,\n",
        "  steps_per_epoch=len(training_set),\n",
        "  validation_steps=len(test_set)\n",
        ")"
      ]
    },
    {
      "cell_type": "code",
      "execution_count": null,
      "metadata": {
        "colab": {
          "base_uri": "https://localhost:8080/",
          "height": 282
        },
        "id": "JUVD6ZPbGJt1",
        "outputId": "2cd5b93c-13a1-4b1d-99a8-b0eeda69b8a2"
      },
      "outputs": [
        {
          "output_type": "display_data",
          "data": {
            "image/png": "[encoded data removed]",
            "text/plain": [
              "<Figure size 432x288 with 1 Axes>"
            ]
          },
          "metadata": {
            "needs_background": "light"
          }
        },
        {
          "output_type": "display_data",
          "data": {
            "text/plain": [
              "<Figure size 432x288 with 0 Axes>"
            ]
          },
          "metadata": {}
        }
      ],
      "source": [
        "# plot the loss\n",
        "plt.plot(r.history['loss'], label='train loss')\n",
        "plt.plot(r.history['val_loss'], label='val loss')\n",
        "plt.legend()\n",
        "plt.show()\n",
        "plt.savefig('LossVal_loss')\n"
      ]
    },
    {
      "cell_type": "code",
      "execution_count": null,
      "metadata": {
        "colab": {
          "base_uri": "https://localhost:8080/",
          "height": 282
        },
        "id": "l0TYn4s6O4uS",
        "outputId": "51e385d2-3363-4249-b87e-d0778fe6da7b"
      },
      "outputs": [
        {
          "output_type": "display_data",
          "data": {
            "image/png": "[encoded data removed]",
            "text/plain": [
              "<Figure size 432x288 with 1 Axes>"
            ]
          },
          "metadata": {
            "needs_background": "light"
          }
        },
        {
          "output_type": "display_data",
          "data": {
            "text/plain": [
              "<Figure size 432x288 with 0 Axes>"
            ]
          },
          "metadata": {}
        }
      ],
      "source": [
        "# plot the accuracy\n",
        "plt.plot(r.history['accuracy'], label='train acc')\n",
        "plt.plot(r.history['val_accuracy'], label='val acc')\n",
        "plt.legend()\n",
        "plt.show()\n",
        "plt.savefig('AccVal_acc')"
      ]
    },
    {
      "cell_type": "code",
      "source": [
        "import os,cv2\n",
        "from sklearn.metrics import confusion_matrix\n",
        "import seaborn as sns\n",
        "y_actual=[]\n",
        "y_test=[]"
      ],
      "metadata": {
        "id": "TyHXPBbq4n_i"
      },
      "execution_count": null,
      "outputs": []
    },
    {
      "cell_type": "code",
      "source": [
        "from re import I\n",
        "from PIL.Image import NORMAL\n",
        "test_data=[]\n",
        "test_labels=[]\n",
        "for i in ['/NORMAL/', '/PNEUMONIA/']:\n",
        "    for img in (os.listdir('/content/drive/MyDrive/Dataset/chest_xray/test/' +i)):\n",
        "        img=plt.imread('/content/drive/MyDrive/Dataset/chest_xray/test/'+ i+img)\n",
        "        img= cv2.resize(img, (224,224))\n",
        "        img= np.dstack([img, img,img])\n",
        "        img=img.astype('float32')/ 255\n",
        "        if i=='/NORMAL/':\n",
        "          label=0\n",
        "        elif i=='/PNEUMONIA/':\n",
        "          label=1\n",
        "        test_data.append(img)\n",
        "        test_labels.append(label)"
      ],
      "metadata": {
        "id": "Z3mFQz6F4oGl"
      },
      "execution_count": null,
      "outputs": []
    },
    {
      "cell_type": "code",
      "source": [
        "test_data=np.array(test_data)\n",
        "test_labels=np.array(test_labels)"
      ],
      "metadata": {
        "id": "St04XqlI4oJq"
      },
      "execution_count": null,
      "outputs": []
    },
    {
      "cell_type": "code",
      "source": [
        "from sklearn.metrics import classification_report, accuracy_score,confusion_matrix\n",
        "preds= model.predict(test_data)\n",
        "acc= accuracy_score(test_labels,np.round(preds))*100\n",
        "cm=confusion_matrix(test_labels,np.round(preds))\n",
        "tp, fp,fn,tn= cm.ravel()\n",
        "print(\"confusion_matrix===========\")\n",
        "print(cm)\n",
        "print(\"\\ntest_matrix==============\")\n",
        "precision=tp/(tp+fp)\n",
        "recall=tp/(tp+fn)\n",
        "sensitivity=tn/(tn+fp)\n",
        "print('accuracy: {}%'.format(acc))\n",
        "print('precision: {}%'.format(precision))\n",
        "print('Recall: {}%'.format(recall))\n",
        "print('F1-scor: {}%'.format(2*precision*recall/(precision+recall)))\n",
        "\n",
        "print('\\n train matrix===========')\n",
        "print('train acc:{}'.format(np.round((r.history['accuracy'][-1])*100,2)))\n"
      ],
      "metadata": {
        "colab": {
          "base_uri": "https://localhost:8080/",
          "height": 391
        },
        "id": "dp8GtBTl4ofQ",
        "outputId": "52d2de2d-5416-4553-87e0-9cf67baa9168"
      },
      "execution_count": null,
      "outputs": [
        {
          "output_type": "stream",
          "name": "stdout",
          "text": [
            "confusion_matrix===========\n",
            "[[202  40]\n",
            " [ 13 399]]\n",
            "\n",
            "test_matrix==============\n",
            "accuracy: 91.89602446483181%\n",
            "precision: 0.8347107438016529%\n",
            "Recall: 0.9395348837209302%\n",
            "F1-scor: 0.8840262582056893%\n",
            "\n",
            " train matrix===========\n"
          ]
        },
        {
          "output_type": "error",
          "ename": "AttributeError",
          "evalue": "ignored",
          "traceback": [
            "\u001b[0;31m---------------------------------------------------------------------------\u001b[0m",
            "\u001b[0;31mAttributeError\u001b[0m                            Traceback (most recent call last)",
            "\u001b[0;32m<ipython-input-60-a074e733a256>\u001b[0m in \u001b[0;36m<module>\u001b[0;34m()\u001b[0m\n\u001b[1;32m     16\u001b[0m \u001b[0;34m\u001b[0m\u001b[0m\n\u001b[1;32m     17\u001b[0m \u001b[0mprint\u001b[0m\u001b[0;34m(\u001b[0m\u001b[0;34m'\\n train matrix==========='\u001b[0m\u001b[0;34m)\u001b[0m\u001b[0;34m\u001b[0m\u001b[0;34m\u001b[0m\u001b[0m\n\u001b[0;32m---> 18\u001b[0;31m \u001b[0mprint\u001b[0m\u001b[0;34m(\u001b[0m\u001b[0;34m'train acc:{}'\u001b[0m\u001b[0;34m.\u001b[0m\u001b[0mformat\u001b[0m\u001b[0;34m(\u001b[0m\u001b[0mnp\u001b[0m\u001b[0;34m.\u001b[0m\u001b[0mround\u001b[0m\u001b[0;34m(\u001b[0m\u001b[0;34m(\u001b[0m\u001b[0mr\u001b[0m\u001b[0;34m.\u001b[0m\u001b[0mhistory\u001b[0m\u001b[0;34m[\u001b[0m\u001b[0;34m'accuracy'\u001b[0m\u001b[0;34m]\u001b[0m\u001b[0;34m[\u001b[0m\u001b[0;34m-\u001b[0m\u001b[0;36m1\u001b[0m\u001b[0;34m]\u001b[0m\u001b[0;34m)\u001b[0m\u001b[0;34m*\u001b[0m\u001b[0;36m100\u001b[0m\u001b[0;34m,\u001b[0m\u001b[0;36m2\u001b[0m\u001b[0;34m)\u001b[0m\u001b[0;34m)\u001b[0m\u001b[0;34m)\u001b[0m\u001b[0;34m\u001b[0m\u001b[0;34m\u001b[0m\u001b[0m\n\u001b[0m",
            "\u001b[0;31mAttributeError\u001b[0m: 'numpy.int64' object has no attribute 'history'"
          ]
        }
      ]
    },
    {
      "cell_type": "code",
      "source": [
        "print(\"tp=\",tp)\n",
        "print(\"fn=\",fn)\n",
        "print(\"tn=\",tn)\n",
        "print(\"fp=\",fp)"
      ],
      "metadata": {
        "colab": {
          "base_uri": "https://localhost:8080/"
        },
        "id": "OKy19ADw5XxJ",
        "outputId": "2a413cc1-5f7c-450d-e235-67612b50d835"
      },
      "execution_count": null,
      "outputs": [
        {
          "output_type": "stream",
          "name": "stdout",
          "text": [
            "tp= 202\n",
            "fn= 13\n",
            "tn= 399\n",
            "fp= 40\n"
          ]
        }
      ]
    },
    {
      "cell_type": "code",
      "source": [
        "print(classification_report(test_labels,np.round(preds),target_names=['Normal','Pneumonia']))"
      ],
      "metadata": {
        "colab": {
          "base_uri": "https://localhost:8080/"
        },
        "id": "0DCnniFB49kH",
        "outputId": "2db9c3cb-97ca-44ad-a985-f7927b490454"
      },
      "execution_count": null,
      "outputs": [
        {
          "output_type": "stream",
          "name": "stdout",
          "text": [
            "              precision    recall  f1-score   support\n",
            "\n",
            "      Normal       0.94      0.83      0.88       242\n",
            "   Pneumonia       0.91      0.97      0.94       412\n",
            "\n",
            "    accuracy                           0.92       654\n",
            "   macro avg       0.92      0.90      0.91       654\n",
            "weighted avg       0.92      0.92      0.92       654\n",
            "\n"
          ]
        }
      ]
    },
    {
      "cell_type": "code",
      "source": [
        "from mlxtend.plotting import plot_confusion_matrix\n",
        "plt.figure()\n",
        "\n",
        "plot_confusion_matrix(cm, figsize=(12,8),hide_ticks=True, cmap=plt.cm.Blues)\n",
        "plt.xticks(range(2),['Normal','Pneumonia'],fontsize=16)\n",
        "plt.yticks(range(2),['Normal','Pneumonia'],fontsize=16)\n",
        "plt.title(\"VGG_16 confusion_matrix\")\n",
        "\n",
        "plt.show()\n"
      ],
      "metadata": {
        "colab": {
          "base_uri": "https://localhost:8080/",
          "height": 557
        },
        "id": "ejdyENRM5D_f",
        "outputId": "1b37e9e2-cb45-4130-a875-12f0b4a16d54"
      },
      "execution_count": null,
      "outputs": [
        {
          "output_type": "display_data",
          "data": {
            "text/plain": [
              "<Figure size 432x288 with 0 Axes>"
            ]
          },
          "metadata": {}
        },
        {
          "output_type": "display_data",
          "data": {
            "image/png": "[encoded data removed]",
            "text/plain": [
              "<Figure size 864x576 with 1 Axes>"
            ]
          },
          "metadata": {
            "needs_background": "light"
          }
        }
      ]
    },
    {
      "cell_type": "code",
      "execution_count": null,
      "metadata": {
        "id": "6KrLS2VsGJt1"
      },
      "outputs": [],
      "source": [
        "# save it as a h5 file\n",
        "\n",
        "import tensorflow as tf\n",
        "\n",
        "from keras.models import load_model\n",
        "\n",
        "model.save('model_vgg16.h5')"
      ]
    },
    {
      "cell_type": "code",
      "execution_count": null,
      "metadata": {
        "id": "YqvvXX6-IbHL"
      },
      "outputs": [],
      "source": [
        "from keras.models import load_model"
      ]
    },
    {
      "cell_type": "code",
      "execution_count": null,
      "metadata": {
        "id": "VGQN56DfWUjW"
      },
      "outputs": [],
      "source": [
        "from keras.preprocessing import image\n"
      ]
    },
    {
      "cell_type": "code",
      "execution_count": null,
      "metadata": {
        "id": "rUPfRu0YWUm_"
      },
      "outputs": [],
      "source": [
        "model=load_model('model_vgg16.h5')"
      ]
    },
    {
      "cell_type": "code",
      "execution_count": null,
      "metadata": {
        "id": "pPFMNoLVWUq7"
      },
      "outputs": [],
      "source": [
        "img=image.load_img('/content/drive/MyDrive/Dataset/chest_xray/val/PNEUMONIA/person1946_bacteria_4875.jpeg',target_size=(224,224))\n"
      ]
    },
    {
      "cell_type": "code",
      "execution_count": null,
      "metadata": {
        "id": "OxixUGU8WUwn"
      },
      "outputs": [],
      "source": [
        "x=image.img_to_array(img)"
      ]
    },
    {
      "cell_type": "code",
      "execution_count": null,
      "metadata": {
        "id": "xH5G1vNcWU0G"
      },
      "outputs": [],
      "source": [
        "x=np.expand_dims(x, axis=0)"
      ]
    },
    {
      "cell_type": "code",
      "execution_count": null,
      "metadata": {
        "id": "jhujARv5WU27"
      },
      "outputs": [],
      "source": [
        "img_data=preprocess_input(x)"
      ]
    },
    {
      "cell_type": "code",
      "execution_count": null,
      "metadata": {
        "colab": {
          "base_uri": "https://localhost:8080/"
        },
        "id": "wrOQhzwL2bYh",
        "outputId": "c0a258cb-ddc5-4fa0-f47b-54b6e11ac155"
      },
      "outputs": [
        {
          "data": {
            "text/plain": [
              "array([[0., 1.]], dtype=float32)"
            ]
          },
          "execution_count": 42,
          "metadata": {},
          "output_type": "execute_result"
        }
      ],
      "source": [
        "classes=model.predict(img_data)\n",
        "classes"
      ]
    },
    {
      "cell_type": "code",
      "execution_count": null,
      "metadata": {
        "id": "iYwsljwV2ie8"
      },
      "outputs": [],
      "source": [
        "result=int(classes[0][0])"
      ]
    },
    {
      "cell_type": "code",
      "execution_count": null,
      "metadata": {
        "colab": {
          "base_uri": "https://localhost:8080/"
        },
        "id": "gex0T4hF2j1c",
        "outputId": "e7d0f636-4031-46a6-f76f-25f7a07298f8"
      },
      "outputs": [
        {
          "name": "stdout",
          "output_type": "stream",
          "text": [
            "Person is Affected By PNEUMONIA\n"
          ]
        }
      ],
      "source": [
        "if result==0:\n",
        "    print(\"Person is Affected By PNEUMONIA\")\n",
        "else:\n",
        "    print(\"Result is Normal\")"
      ]
    }
  ],
  "metadata": {
    "accelerator": "GPU",
    "colab": {
      "collapsed_sections": [],
      "name": "Transfer_Learning_VGG_16.ipynb",
      "provenance": []
    },
    "kernelspec": {
      "display_name": "Python 3",
      "language": "python",
      "name": "python3"
    },
    "language_info": {
      "codemirror_mode": {
        "name": "ipython",
        "version": 3
      },
      "file_extension": ".py",
      "mimetype": "text/x-python",
      "name": "python",
      "nbconvert_exporter": "python",
      "pygments_lexer": "ipython3",
      "version": "3.6.7"
    }
  },
  "nbformat": 4,
  "nbformat_minor": 0
}